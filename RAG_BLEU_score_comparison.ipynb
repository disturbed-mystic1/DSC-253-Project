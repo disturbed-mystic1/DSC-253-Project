{
  "nbformat": 4,
  "nbformat_minor": 0,
  "metadata": {
    "colab": {
      "provenance": [],
      "include_colab_link": true
    },
    "kernelspec": {
      "name": "python3",
      "display_name": "Python 3"
    },
    "language_info": {
      "name": "python"
    },
    "widgets": {
      "application/vnd.jupyter.widget-state+json": {
        "b799003a20c54d2289de25a9e70f95b4": {
          "model_module": "@jupyter-widgets/controls",
          "model_name": "HBoxModel",
          "model_module_version": "1.5.0",
          "state": {
            "_dom_classes": [],
            "_model_module": "@jupyter-widgets/controls",
            "_model_module_version": "1.5.0",
            "_model_name": "HBoxModel",
            "_view_count": null,
            "_view_module": "@jupyter-widgets/controls",
            "_view_module_version": "1.5.0",
            "_view_name": "HBoxView",
            "box_style": "",
            "children": [
              "IPY_MODEL_5b12d4b3bb4043bdb6304083f59c19aa",
              "IPY_MODEL_998bf36566ba444587c26770b39941e8",
              "IPY_MODEL_ffbcdab89f814ef696a0e3ff152c71ef"
            ],
            "layout": "IPY_MODEL_34b5d0885c78411ebee7ebb4dcbec976"
          }
        },
        "5b12d4b3bb4043bdb6304083f59c19aa": {
          "model_module": "@jupyter-widgets/controls",
          "model_name": "HTMLModel",
          "model_module_version": "1.5.0",
          "state": {
            "_dom_classes": [],
            "_model_module": "@jupyter-widgets/controls",
            "_model_module_version": "1.5.0",
            "_model_name": "HTMLModel",
            "_view_count": null,
            "_view_module": "@jupyter-widgets/controls",
            "_view_module_version": "1.5.0",
            "_view_name": "HTMLView",
            "description": "",
            "description_tooltip": null,
            "layout": "IPY_MODEL_444cfb2f20924bda96ecfb802021848d",
            "placeholder": "​",
            "style": "IPY_MODEL_25f681afd31042fbaff3aa6dc16653a9",
            "value": "generation_config.json: 100%"
          }
        },
        "998bf36566ba444587c26770b39941e8": {
          "model_module": "@jupyter-widgets/controls",
          "model_name": "FloatProgressModel",
          "model_module_version": "1.5.0",
          "state": {
            "_dom_classes": [],
            "_model_module": "@jupyter-widgets/controls",
            "_model_module_version": "1.5.0",
            "_model_name": "FloatProgressModel",
            "_view_count": null,
            "_view_module": "@jupyter-widgets/controls",
            "_view_module_version": "1.5.0",
            "_view_name": "ProgressView",
            "bar_style": "success",
            "description": "",
            "description_tooltip": null,
            "layout": "IPY_MODEL_ef344c426f1149ffbd04ce6b57c51342",
            "max": 190,
            "min": 0,
            "orientation": "horizontal",
            "style": "IPY_MODEL_bd2c1e01c42e465cb2a318e1985870ca",
            "value": 190
          }
        },
        "ffbcdab89f814ef696a0e3ff152c71ef": {
          "model_module": "@jupyter-widgets/controls",
          "model_name": "HTMLModel",
          "model_module_version": "1.5.0",
          "state": {
            "_dom_classes": [],
            "_model_module": "@jupyter-widgets/controls",
            "_model_module_version": "1.5.0",
            "_model_name": "HTMLModel",
            "_view_count": null,
            "_view_module": "@jupyter-widgets/controls",
            "_view_module_version": "1.5.0",
            "_view_name": "HTMLView",
            "description": "",
            "description_tooltip": null,
            "layout": "IPY_MODEL_da8b79ba13324c368ddf6395f24f773e",
            "placeholder": "​",
            "style": "IPY_MODEL_65d6aa8df1a046ca9d18e1030fc0fca0",
            "value": " 190/190 [00:00&lt;00:00, 10.8kB/s]"
          }
        },
        "34b5d0885c78411ebee7ebb4dcbec976": {
          "model_module": "@jupyter-widgets/base",
          "model_name": "LayoutModel",
          "model_module_version": "1.2.0",
          "state": {
            "_model_module": "@jupyter-widgets/base",
            "_model_module_version": "1.2.0",
            "_model_name": "LayoutModel",
            "_view_count": null,
            "_view_module": "@jupyter-widgets/base",
            "_view_module_version": "1.2.0",
            "_view_name": "LayoutView",
            "align_content": null,
            "align_items": null,
            "align_self": null,
            "border": null,
            "bottom": null,
            "display": null,
            "flex": null,
            "flex_flow": null,
            "grid_area": null,
            "grid_auto_columns": null,
            "grid_auto_flow": null,
            "grid_auto_rows": null,
            "grid_column": null,
            "grid_gap": null,
            "grid_row": null,
            "grid_template_areas": null,
            "grid_template_columns": null,
            "grid_template_rows": null,
            "height": null,
            "justify_content": null,
            "justify_items": null,
            "left": null,
            "margin": null,
            "max_height": null,
            "max_width": null,
            "min_height": null,
            "min_width": null,
            "object_fit": null,
            "object_position": null,
            "order": null,
            "overflow": null,
            "overflow_x": null,
            "overflow_y": null,
            "padding": null,
            "right": null,
            "top": null,
            "visibility": null,
            "width": null
          }
        },
        "444cfb2f20924bda96ecfb802021848d": {
          "model_module": "@jupyter-widgets/base",
          "model_name": "LayoutModel",
          "model_module_version": "1.2.0",
          "state": {
            "_model_module": "@jupyter-widgets/base",
            "_model_module_version": "1.2.0",
            "_model_name": "LayoutModel",
            "_view_count": null,
            "_view_module": "@jupyter-widgets/base",
            "_view_module_version": "1.2.0",
            "_view_name": "LayoutView",
            "align_content": null,
            "align_items": null,
            "align_self": null,
            "border": null,
            "bottom": null,
            "display": null,
            "flex": null,
            "flex_flow": null,
            "grid_area": null,
            "grid_auto_columns": null,
            "grid_auto_flow": null,
            "grid_auto_rows": null,
            "grid_column": null,
            "grid_gap": null,
            "grid_row": null,
            "grid_template_areas": null,
            "grid_template_columns": null,
            "grid_template_rows": null,
            "height": null,
            "justify_content": null,
            "justify_items": null,
            "left": null,
            "margin": null,
            "max_height": null,
            "max_width": null,
            "min_height": null,
            "min_width": null,
            "object_fit": null,
            "object_position": null,
            "order": null,
            "overflow": null,
            "overflow_x": null,
            "overflow_y": null,
            "padding": null,
            "right": null,
            "top": null,
            "visibility": null,
            "width": null
          }
        },
        "25f681afd31042fbaff3aa6dc16653a9": {
          "model_module": "@jupyter-widgets/controls",
          "model_name": "DescriptionStyleModel",
          "model_module_version": "1.5.0",
          "state": {
            "_model_module": "@jupyter-widgets/controls",
            "_model_module_version": "1.5.0",
            "_model_name": "DescriptionStyleModel",
            "_view_count": null,
            "_view_module": "@jupyter-widgets/base",
            "_view_module_version": "1.2.0",
            "_view_name": "StyleView",
            "description_width": ""
          }
        },
        "ef344c426f1149ffbd04ce6b57c51342": {
          "model_module": "@jupyter-widgets/base",
          "model_name": "LayoutModel",
          "model_module_version": "1.2.0",
          "state": {
            "_model_module": "@jupyter-widgets/base",
            "_model_module_version": "1.2.0",
            "_model_name": "LayoutModel",
            "_view_count": null,
            "_view_module": "@jupyter-widgets/base",
            "_view_module_version": "1.2.0",
            "_view_name": "LayoutView",
            "align_content": null,
            "align_items": null,
            "align_self": null,
            "border": null,
            "bottom": null,
            "display": null,
            "flex": null,
            "flex_flow": null,
            "grid_area": null,
            "grid_auto_columns": null,
            "grid_auto_flow": null,
            "grid_auto_rows": null,
            "grid_column": null,
            "grid_gap": null,
            "grid_row": null,
            "grid_template_areas": null,
            "grid_template_columns": null,
            "grid_template_rows": null,
            "height": null,
            "justify_content": null,
            "justify_items": null,
            "left": null,
            "margin": null,
            "max_height": null,
            "max_width": null,
            "min_height": null,
            "min_width": null,
            "object_fit": null,
            "object_position": null,
            "order": null,
            "overflow": null,
            "overflow_x": null,
            "overflow_y": null,
            "padding": null,
            "right": null,
            "top": null,
            "visibility": null,
            "width": null
          }
        },
        "bd2c1e01c42e465cb2a318e1985870ca": {
          "model_module": "@jupyter-widgets/controls",
          "model_name": "ProgressStyleModel",
          "model_module_version": "1.5.0",
          "state": {
            "_model_module": "@jupyter-widgets/controls",
            "_model_module_version": "1.5.0",
            "_model_name": "ProgressStyleModel",
            "_view_count": null,
            "_view_module": "@jupyter-widgets/base",
            "_view_module_version": "1.2.0",
            "_view_name": "StyleView",
            "bar_color": null,
            "description_width": ""
          }
        },
        "da8b79ba13324c368ddf6395f24f773e": {
          "model_module": "@jupyter-widgets/base",
          "model_name": "LayoutModel",
          "model_module_version": "1.2.0",
          "state": {
            "_model_module": "@jupyter-widgets/base",
            "_model_module_version": "1.2.0",
            "_model_name": "LayoutModel",
            "_view_count": null,
            "_view_module": "@jupyter-widgets/base",
            "_view_module_version": "1.2.0",
            "_view_name": "LayoutView",
            "align_content": null,
            "align_items": null,
            "align_self": null,
            "border": null,
            "bottom": null,
            "display": null,
            "flex": null,
            "flex_flow": null,
            "grid_area": null,
            "grid_auto_columns": null,
            "grid_auto_flow": null,
            "grid_auto_rows": null,
            "grid_column": null,
            "grid_gap": null,
            "grid_row": null,
            "grid_template_areas": null,
            "grid_template_columns": null,
            "grid_template_rows": null,
            "height": null,
            "justify_content": null,
            "justify_items": null,
            "left": null,
            "margin": null,
            "max_height": null,
            "max_width": null,
            "min_height": null,
            "min_width": null,
            "object_fit": null,
            "object_position": null,
            "order": null,
            "overflow": null,
            "overflow_x": null,
            "overflow_y": null,
            "padding": null,
            "right": null,
            "top": null,
            "visibility": null,
            "width": null
          }
        },
        "65d6aa8df1a046ca9d18e1030fc0fca0": {
          "model_module": "@jupyter-widgets/controls",
          "model_name": "DescriptionStyleModel",
          "model_module_version": "1.5.0",
          "state": {
            "_model_module": "@jupyter-widgets/controls",
            "_model_module_version": "1.5.0",
            "_model_name": "DescriptionStyleModel",
            "_view_count": null,
            "_view_module": "@jupyter-widgets/base",
            "_view_module_version": "1.2.0",
            "_view_name": "StyleView",
            "description_width": ""
          }
        },
        "e74cb93b6eda49e7bbbf638a62725cfc": {
          "model_module": "@jupyter-widgets/controls",
          "model_name": "HBoxModel",
          "model_module_version": "1.5.0",
          "state": {
            "_dom_classes": [],
            "_model_module": "@jupyter-widgets/controls",
            "_model_module_version": "1.5.0",
            "_model_name": "HBoxModel",
            "_view_count": null,
            "_view_module": "@jupyter-widgets/controls",
            "_view_module_version": "1.5.0",
            "_view_name": "HBoxView",
            "box_style": "",
            "children": [
              "IPY_MODEL_9cf4a55af9d3493a81665a8fa6f8172a",
              "IPY_MODEL_36e80c8229bd49d48f97f4931cb4b1f0",
              "IPY_MODEL_6b1a0568626748dda844013886c8940f"
            ],
            "layout": "IPY_MODEL_c8c21d6b281a417d86bd99c20fd950fa"
          }
        },
        "9cf4a55af9d3493a81665a8fa6f8172a": {
          "model_module": "@jupyter-widgets/controls",
          "model_name": "HTMLModel",
          "model_module_version": "1.5.0",
          "state": {
            "_dom_classes": [],
            "_model_module": "@jupyter-widgets/controls",
            "_model_module_version": "1.5.0",
            "_model_name": "HTMLModel",
            "_view_count": null,
            "_view_module": "@jupyter-widgets/controls",
            "_view_module_version": "1.5.0",
            "_view_name": "HTMLView",
            "description": "",
            "description_tooltip": null,
            "layout": "IPY_MODEL_3c188afce53a4e5790b97b0cda20e4f3",
            "placeholder": "​",
            "style": "IPY_MODEL_ec65cbd557a04551a3ffb8b35ee00dda",
            "value": "tokenizer_config.json: 100%"
          }
        },
        "36e80c8229bd49d48f97f4931cb4b1f0": {
          "model_module": "@jupyter-widgets/controls",
          "model_name": "FloatProgressModel",
          "model_module_version": "1.5.0",
          "state": {
            "_dom_classes": [],
            "_model_module": "@jupyter-widgets/controls",
            "_model_module_version": "1.5.0",
            "_model_name": "FloatProgressModel",
            "_view_count": null,
            "_view_module": "@jupyter-widgets/controls",
            "_view_module_version": "1.5.0",
            "_view_name": "ProgressView",
            "bar_style": "success",
            "description": "",
            "description_tooltip": null,
            "layout": "IPY_MODEL_e4dc49be95d74b818ece79f68a39f214",
            "max": 46405,
            "min": 0,
            "orientation": "horizontal",
            "style": "IPY_MODEL_bb73fbbbf0de4e18a4b0e18216fa663a",
            "value": 46405
          }
        },
        "6b1a0568626748dda844013886c8940f": {
          "model_module": "@jupyter-widgets/controls",
          "model_name": "HTMLModel",
          "model_module_version": "1.5.0",
          "state": {
            "_dom_classes": [],
            "_model_module": "@jupyter-widgets/controls",
            "_model_module_version": "1.5.0",
            "_model_name": "HTMLModel",
            "_view_count": null,
            "_view_module": "@jupyter-widgets/controls",
            "_view_module_version": "1.5.0",
            "_view_name": "HTMLView",
            "description": "",
            "description_tooltip": null,
            "layout": "IPY_MODEL_6d555c03fce84cab80aec0aa760cd4c1",
            "placeholder": "​",
            "style": "IPY_MODEL_8cfa9d628c9043f599c6be3fe57a8dc7",
            "value": " 46.4k/46.4k [00:00&lt;00:00, 3.42MB/s]"
          }
        },
        "c8c21d6b281a417d86bd99c20fd950fa": {
          "model_module": "@jupyter-widgets/base",
          "model_name": "LayoutModel",
          "model_module_version": "1.2.0",
          "state": {
            "_model_module": "@jupyter-widgets/base",
            "_model_module_version": "1.2.0",
            "_model_name": "LayoutModel",
            "_view_count": null,
            "_view_module": "@jupyter-widgets/base",
            "_view_module_version": "1.2.0",
            "_view_name": "LayoutView",
            "align_content": null,
            "align_items": null,
            "align_self": null,
            "border": null,
            "bottom": null,
            "display": null,
            "flex": null,
            "flex_flow": null,
            "grid_area": null,
            "grid_auto_columns": null,
            "grid_auto_flow": null,
            "grid_auto_rows": null,
            "grid_column": null,
            "grid_gap": null,
            "grid_row": null,
            "grid_template_areas": null,
            "grid_template_columns": null,
            "grid_template_rows": null,
            "height": null,
            "justify_content": null,
            "justify_items": null,
            "left": null,
            "margin": null,
            "max_height": null,
            "max_width": null,
            "min_height": null,
            "min_width": null,
            "object_fit": null,
            "object_position": null,
            "order": null,
            "overflow": null,
            "overflow_x": null,
            "overflow_y": null,
            "padding": null,
            "right": null,
            "top": null,
            "visibility": null,
            "width": null
          }
        },
        "3c188afce53a4e5790b97b0cda20e4f3": {
          "model_module": "@jupyter-widgets/base",
          "model_name": "LayoutModel",
          "model_module_version": "1.2.0",
          "state": {
            "_model_module": "@jupyter-widgets/base",
            "_model_module_version": "1.2.0",
            "_model_name": "LayoutModel",
            "_view_count": null,
            "_view_module": "@jupyter-widgets/base",
            "_view_module_version": "1.2.0",
            "_view_name": "LayoutView",
            "align_content": null,
            "align_items": null,
            "align_self": null,
            "border": null,
            "bottom": null,
            "display": null,
            "flex": null,
            "flex_flow": null,
            "grid_area": null,
            "grid_auto_columns": null,
            "grid_auto_flow": null,
            "grid_auto_rows": null,
            "grid_column": null,
            "grid_gap": null,
            "grid_row": null,
            "grid_template_areas": null,
            "grid_template_columns": null,
            "grid_template_rows": null,
            "height": null,
            "justify_content": null,
            "justify_items": null,
            "left": null,
            "margin": null,
            "max_height": null,
            "max_width": null,
            "min_height": null,
            "min_width": null,
            "object_fit": null,
            "object_position": null,
            "order": null,
            "overflow": null,
            "overflow_x": null,
            "overflow_y": null,
            "padding": null,
            "right": null,
            "top": null,
            "visibility": null,
            "width": null
          }
        },
        "ec65cbd557a04551a3ffb8b35ee00dda": {
          "model_module": "@jupyter-widgets/controls",
          "model_name": "DescriptionStyleModel",
          "model_module_version": "1.5.0",
          "state": {
            "_model_module": "@jupyter-widgets/controls",
            "_model_module_version": "1.5.0",
            "_model_name": "DescriptionStyleModel",
            "_view_count": null,
            "_view_module": "@jupyter-widgets/base",
            "_view_module_version": "1.2.0",
            "_view_name": "StyleView",
            "description_width": ""
          }
        },
        "e4dc49be95d74b818ece79f68a39f214": {
          "model_module": "@jupyter-widgets/base",
          "model_name": "LayoutModel",
          "model_module_version": "1.2.0",
          "state": {
            "_model_module": "@jupyter-widgets/base",
            "_model_module_version": "1.2.0",
            "_model_name": "LayoutModel",
            "_view_count": null,
            "_view_module": "@jupyter-widgets/base",
            "_view_module_version": "1.2.0",
            "_view_name": "LayoutView",
            "align_content": null,
            "align_items": null,
            "align_self": null,
            "border": null,
            "bottom": null,
            "display": null,
            "flex": null,
            "flex_flow": null,
            "grid_area": null,
            "grid_auto_columns": null,
            "grid_auto_flow": null,
            "grid_auto_rows": null,
            "grid_column": null,
            "grid_gap": null,
            "grid_row": null,
            "grid_template_areas": null,
            "grid_template_columns": null,
            "grid_template_rows": null,
            "height": null,
            "justify_content": null,
            "justify_items": null,
            "left": null,
            "margin": null,
            "max_height": null,
            "max_width": null,
            "min_height": null,
            "min_width": null,
            "object_fit": null,
            "object_position": null,
            "order": null,
            "overflow": null,
            "overflow_x": null,
            "overflow_y": null,
            "padding": null,
            "right": null,
            "top": null,
            "visibility": null,
            "width": null
          }
        },
        "bb73fbbbf0de4e18a4b0e18216fa663a": {
          "model_module": "@jupyter-widgets/controls",
          "model_name": "ProgressStyleModel",
          "model_module_version": "1.5.0",
          "state": {
            "_model_module": "@jupyter-widgets/controls",
            "_model_module_version": "1.5.0",
            "_model_name": "ProgressStyleModel",
            "_view_count": null,
            "_view_module": "@jupyter-widgets/base",
            "_view_module_version": "1.2.0",
            "_view_name": "StyleView",
            "bar_color": null,
            "description_width": ""
          }
        },
        "6d555c03fce84cab80aec0aa760cd4c1": {
          "model_module": "@jupyter-widgets/base",
          "model_name": "LayoutModel",
          "model_module_version": "1.2.0",
          "state": {
            "_model_module": "@jupyter-widgets/base",
            "_model_module_version": "1.2.0",
            "_model_name": "LayoutModel",
            "_view_count": null,
            "_view_module": "@jupyter-widgets/base",
            "_view_module_version": "1.2.0",
            "_view_name": "LayoutView",
            "align_content": null,
            "align_items": null,
            "align_self": null,
            "border": null,
            "bottom": null,
            "display": null,
            "flex": null,
            "flex_flow": null,
            "grid_area": null,
            "grid_auto_columns": null,
            "grid_auto_flow": null,
            "grid_auto_rows": null,
            "grid_column": null,
            "grid_gap": null,
            "grid_row": null,
            "grid_template_areas": null,
            "grid_template_columns": null,
            "grid_template_rows": null,
            "height": null,
            "justify_content": null,
            "justify_items": null,
            "left": null,
            "margin": null,
            "max_height": null,
            "max_width": null,
            "min_height": null,
            "min_width": null,
            "object_fit": null,
            "object_position": null,
            "order": null,
            "overflow": null,
            "overflow_x": null,
            "overflow_y": null,
            "padding": null,
            "right": null,
            "top": null,
            "visibility": null,
            "width": null
          }
        },
        "8cfa9d628c9043f599c6be3fe57a8dc7": {
          "model_module": "@jupyter-widgets/controls",
          "model_name": "DescriptionStyleModel",
          "model_module_version": "1.5.0",
          "state": {
            "_model_module": "@jupyter-widgets/controls",
            "_model_module_version": "1.5.0",
            "_model_name": "DescriptionStyleModel",
            "_view_count": null,
            "_view_module": "@jupyter-widgets/base",
            "_view_module_version": "1.2.0",
            "_view_name": "StyleView",
            "description_width": ""
          }
        },
        "36646ec698db4ddf8d93852daaa796b5": {
          "model_module": "@jupyter-widgets/controls",
          "model_name": "HBoxModel",
          "model_module_version": "1.5.0",
          "state": {
            "_dom_classes": [],
            "_model_module": "@jupyter-widgets/controls",
            "_model_module_version": "1.5.0",
            "_model_name": "HBoxModel",
            "_view_count": null,
            "_view_module": "@jupyter-widgets/controls",
            "_view_module_version": "1.5.0",
            "_view_name": "HBoxView",
            "box_style": "",
            "children": [
              "IPY_MODEL_24b4a751ce964ec7a221adafb92eb6a5",
              "IPY_MODEL_b64059b2907e482a9cd8d9f1e6c1d24a",
              "IPY_MODEL_2a86ef8fa8a745dba526d7a06c46dfac"
            ],
            "layout": "IPY_MODEL_a1be8327bf1f47a19502a4af181336bd"
          }
        },
        "24b4a751ce964ec7a221adafb92eb6a5": {
          "model_module": "@jupyter-widgets/controls",
          "model_name": "HTMLModel",
          "model_module_version": "1.5.0",
          "state": {
            "_dom_classes": [],
            "_model_module": "@jupyter-widgets/controls",
            "_model_module_version": "1.5.0",
            "_model_name": "HTMLModel",
            "_view_count": null,
            "_view_module": "@jupyter-widgets/controls",
            "_view_module_version": "1.5.0",
            "_view_name": "HTMLView",
            "description": "",
            "description_tooltip": null,
            "layout": "IPY_MODEL_adc6a48f58ec4f8db1634623082845c1",
            "placeholder": "​",
            "style": "IPY_MODEL_498255e7a53c4de589f1ce4a0e9e96d8",
            "value": "tokenizer.model: 100%"
          }
        },
        "b64059b2907e482a9cd8d9f1e6c1d24a": {
          "model_module": "@jupyter-widgets/controls",
          "model_name": "FloatProgressModel",
          "model_module_version": "1.5.0",
          "state": {
            "_dom_classes": [],
            "_model_module": "@jupyter-widgets/controls",
            "_model_module_version": "1.5.0",
            "_model_name": "FloatProgressModel",
            "_view_count": null,
            "_view_module": "@jupyter-widgets/controls",
            "_view_module_version": "1.5.0",
            "_view_name": "ProgressView",
            "bar_style": "success",
            "description": "",
            "description_tooltip": null,
            "layout": "IPY_MODEL_441d2b44f1ec409db895663a4a1910c8",
            "max": 4241003,
            "min": 0,
            "orientation": "horizontal",
            "style": "IPY_MODEL_1d4447c1591e496f9530a6e833f64427",
            "value": 4241003
          }
        },
        "2a86ef8fa8a745dba526d7a06c46dfac": {
          "model_module": "@jupyter-widgets/controls",
          "model_name": "HTMLModel",
          "model_module_version": "1.5.0",
          "state": {
            "_dom_classes": [],
            "_model_module": "@jupyter-widgets/controls",
            "_model_module_version": "1.5.0",
            "_model_name": "HTMLModel",
            "_view_count": null,
            "_view_module": "@jupyter-widgets/controls",
            "_view_module_version": "1.5.0",
            "_view_name": "HTMLView",
            "description": "",
            "description_tooltip": null,
            "layout": "IPY_MODEL_8677796cbeed4712964cf7bee96a4370",
            "placeholder": "​",
            "style": "IPY_MODEL_326fcb88be024de1b0a94309add14fc4",
            "value": " 4.24M/4.24M [00:00&lt;00:00, 41.3MB/s]"
          }
        },
        "a1be8327bf1f47a19502a4af181336bd": {
          "model_module": "@jupyter-widgets/base",
          "model_name": "LayoutModel",
          "model_module_version": "1.2.0",
          "state": {
            "_model_module": "@jupyter-widgets/base",
            "_model_module_version": "1.2.0",
            "_model_name": "LayoutModel",
            "_view_count": null,
            "_view_module": "@jupyter-widgets/base",
            "_view_module_version": "1.2.0",
            "_view_name": "LayoutView",
            "align_content": null,
            "align_items": null,
            "align_self": null,
            "border": null,
            "bottom": null,
            "display": null,
            "flex": null,
            "flex_flow": null,
            "grid_area": null,
            "grid_auto_columns": null,
            "grid_auto_flow": null,
            "grid_auto_rows": null,
            "grid_column": null,
            "grid_gap": null,
            "grid_row": null,
            "grid_template_areas": null,
            "grid_template_columns": null,
            "grid_template_rows": null,
            "height": null,
            "justify_content": null,
            "justify_items": null,
            "left": null,
            "margin": null,
            "max_height": null,
            "max_width": null,
            "min_height": null,
            "min_width": null,
            "object_fit": null,
            "object_position": null,
            "order": null,
            "overflow": null,
            "overflow_x": null,
            "overflow_y": null,
            "padding": null,
            "right": null,
            "top": null,
            "visibility": null,
            "width": null
          }
        },
        "adc6a48f58ec4f8db1634623082845c1": {
          "model_module": "@jupyter-widgets/base",
          "model_name": "LayoutModel",
          "model_module_version": "1.2.0",
          "state": {
            "_model_module": "@jupyter-widgets/base",
            "_model_module_version": "1.2.0",
            "_model_name": "LayoutModel",
            "_view_count": null,
            "_view_module": "@jupyter-widgets/base",
            "_view_module_version": "1.2.0",
            "_view_name": "LayoutView",
            "align_content": null,
            "align_items": null,
            "align_self": null,
            "border": null,
            "bottom": null,
            "display": null,
            "flex": null,
            "flex_flow": null,
            "grid_area": null,
            "grid_auto_columns": null,
            "grid_auto_flow": null,
            "grid_auto_rows": null,
            "grid_column": null,
            "grid_gap": null,
            "grid_row": null,
            "grid_template_areas": null,
            "grid_template_columns": null,
            "grid_template_rows": null,
            "height": null,
            "justify_content": null,
            "justify_items": null,
            "left": null,
            "margin": null,
            "max_height": null,
            "max_width": null,
            "min_height": null,
            "min_width": null,
            "object_fit": null,
            "object_position": null,
            "order": null,
            "overflow": null,
            "overflow_x": null,
            "overflow_y": null,
            "padding": null,
            "right": null,
            "top": null,
            "visibility": null,
            "width": null
          }
        },
        "498255e7a53c4de589f1ce4a0e9e96d8": {
          "model_module": "@jupyter-widgets/controls",
          "model_name": "DescriptionStyleModel",
          "model_module_version": "1.5.0",
          "state": {
            "_model_module": "@jupyter-widgets/controls",
            "_model_module_version": "1.5.0",
            "_model_name": "DescriptionStyleModel",
            "_view_count": null,
            "_view_module": "@jupyter-widgets/base",
            "_view_module_version": "1.2.0",
            "_view_name": "StyleView",
            "description_width": ""
          }
        },
        "441d2b44f1ec409db895663a4a1910c8": {
          "model_module": "@jupyter-widgets/base",
          "model_name": "LayoutModel",
          "model_module_version": "1.2.0",
          "state": {
            "_model_module": "@jupyter-widgets/base",
            "_model_module_version": "1.2.0",
            "_model_name": "LayoutModel",
            "_view_count": null,
            "_view_module": "@jupyter-widgets/base",
            "_view_module_version": "1.2.0",
            "_view_name": "LayoutView",
            "align_content": null,
            "align_items": null,
            "align_self": null,
            "border": null,
            "bottom": null,
            "display": null,
            "flex": null,
            "flex_flow": null,
            "grid_area": null,
            "grid_auto_columns": null,
            "grid_auto_flow": null,
            "grid_auto_rows": null,
            "grid_column": null,
            "grid_gap": null,
            "grid_row": null,
            "grid_template_areas": null,
            "grid_template_columns": null,
            "grid_template_rows": null,
            "height": null,
            "justify_content": null,
            "justify_items": null,
            "left": null,
            "margin": null,
            "max_height": null,
            "max_width": null,
            "min_height": null,
            "min_width": null,
            "object_fit": null,
            "object_position": null,
            "order": null,
            "overflow": null,
            "overflow_x": null,
            "overflow_y": null,
            "padding": null,
            "right": null,
            "top": null,
            "visibility": null,
            "width": null
          }
        },
        "1d4447c1591e496f9530a6e833f64427": {
          "model_module": "@jupyter-widgets/controls",
          "model_name": "ProgressStyleModel",
          "model_module_version": "1.5.0",
          "state": {
            "_model_module": "@jupyter-widgets/controls",
            "_model_module_version": "1.5.0",
            "_model_name": "ProgressStyleModel",
            "_view_count": null,
            "_view_module": "@jupyter-widgets/base",
            "_view_module_version": "1.2.0",
            "_view_name": "StyleView",
            "bar_color": null,
            "description_width": ""
          }
        },
        "8677796cbeed4712964cf7bee96a4370": {
          "model_module": "@jupyter-widgets/base",
          "model_name": "LayoutModel",
          "model_module_version": "1.2.0",
          "state": {
            "_model_module": "@jupyter-widgets/base",
            "_model_module_version": "1.2.0",
            "_model_name": "LayoutModel",
            "_view_count": null,
            "_view_module": "@jupyter-widgets/base",
            "_view_module_version": "1.2.0",
            "_view_name": "LayoutView",
            "align_content": null,
            "align_items": null,
            "align_self": null,
            "border": null,
            "bottom": null,
            "display": null,
            "flex": null,
            "flex_flow": null,
            "grid_area": null,
            "grid_auto_columns": null,
            "grid_auto_flow": null,
            "grid_auto_rows": null,
            "grid_column": null,
            "grid_gap": null,
            "grid_row": null,
            "grid_template_areas": null,
            "grid_template_columns": null,
            "grid_template_rows": null,
            "height": null,
            "justify_content": null,
            "justify_items": null,
            "left": null,
            "margin": null,
            "max_height": null,
            "max_width": null,
            "min_height": null,
            "min_width": null,
            "object_fit": null,
            "object_position": null,
            "order": null,
            "overflow": null,
            "overflow_x": null,
            "overflow_y": null,
            "padding": null,
            "right": null,
            "top": null,
            "visibility": null,
            "width": null
          }
        },
        "326fcb88be024de1b0a94309add14fc4": {
          "model_module": "@jupyter-widgets/controls",
          "model_name": "DescriptionStyleModel",
          "model_module_version": "1.5.0",
          "state": {
            "_model_module": "@jupyter-widgets/controls",
            "_model_module_version": "1.5.0",
            "_model_name": "DescriptionStyleModel",
            "_view_count": null,
            "_view_module": "@jupyter-widgets/base",
            "_view_module_version": "1.2.0",
            "_view_name": "StyleView",
            "description_width": ""
          }
        },
        "423e0a3bc0744c2abf2890b5726aab68": {
          "model_module": "@jupyter-widgets/controls",
          "model_name": "HBoxModel",
          "model_module_version": "1.5.0",
          "state": {
            "_dom_classes": [],
            "_model_module": "@jupyter-widgets/controls",
            "_model_module_version": "1.5.0",
            "_model_name": "HBoxModel",
            "_view_count": null,
            "_view_module": "@jupyter-widgets/controls",
            "_view_module_version": "1.5.0",
            "_view_name": "HBoxView",
            "box_style": "",
            "children": [
              "IPY_MODEL_14114b81f940429ab696909b0516bc45",
              "IPY_MODEL_fc427d4e32524e4b8dee7b96f2c6b628",
              "IPY_MODEL_33cb30e8d9764cad8de7c673b2e4e949"
            ],
            "layout": "IPY_MODEL_666d41240a184ddda5bb64f6c7a58310"
          }
        },
        "14114b81f940429ab696909b0516bc45": {
          "model_module": "@jupyter-widgets/controls",
          "model_name": "HTMLModel",
          "model_module_version": "1.5.0",
          "state": {
            "_dom_classes": [],
            "_model_module": "@jupyter-widgets/controls",
            "_model_module_version": "1.5.0",
            "_model_name": "HTMLModel",
            "_view_count": null,
            "_view_module": "@jupyter-widgets/controls",
            "_view_module_version": "1.5.0",
            "_view_name": "HTMLView",
            "description": "",
            "description_tooltip": null,
            "layout": "IPY_MODEL_bee652a2439b43139ca1afea9b24aa8b",
            "placeholder": "​",
            "style": "IPY_MODEL_cf8258b4dd9940ff9fb17653399fdfd7",
            "value": "special_tokens_map.json: 100%"
          }
        },
        "fc427d4e32524e4b8dee7b96f2c6b628": {
          "model_module": "@jupyter-widgets/controls",
          "model_name": "FloatProgressModel",
          "model_module_version": "1.5.0",
          "state": {
            "_dom_classes": [],
            "_model_module": "@jupyter-widgets/controls",
            "_model_module_version": "1.5.0",
            "_model_name": "FloatProgressModel",
            "_view_count": null,
            "_view_module": "@jupyter-widgets/controls",
            "_view_module_version": "1.5.0",
            "_view_name": "ProgressView",
            "bar_style": "success",
            "description": "",
            "description_tooltip": null,
            "layout": "IPY_MODEL_a03b12d960ee45d1aba5552c26bc88ce",
            "max": 636,
            "min": 0,
            "orientation": "horizontal",
            "style": "IPY_MODEL_c155bc0536604ba9b8009993edb08be7",
            "value": 636
          }
        },
        "33cb30e8d9764cad8de7c673b2e4e949": {
          "model_module": "@jupyter-widgets/controls",
          "model_name": "HTMLModel",
          "model_module_version": "1.5.0",
          "state": {
            "_dom_classes": [],
            "_model_module": "@jupyter-widgets/controls",
            "_model_module_version": "1.5.0",
            "_model_name": "HTMLModel",
            "_view_count": null,
            "_view_module": "@jupyter-widgets/controls",
            "_view_module_version": "1.5.0",
            "_view_name": "HTMLView",
            "description": "",
            "description_tooltip": null,
            "layout": "IPY_MODEL_75a4c18a184d4e69bb457a41f81e4ba5",
            "placeholder": "​",
            "style": "IPY_MODEL_fd3e52c46b564f4eb7aee5cfad5d7cf9",
            "value": " 636/636 [00:00&lt;00:00, 42.5kB/s]"
          }
        },
        "666d41240a184ddda5bb64f6c7a58310": {
          "model_module": "@jupyter-widgets/base",
          "model_name": "LayoutModel",
          "model_module_version": "1.2.0",
          "state": {
            "_model_module": "@jupyter-widgets/base",
            "_model_module_version": "1.2.0",
            "_model_name": "LayoutModel",
            "_view_count": null,
            "_view_module": "@jupyter-widgets/base",
            "_view_module_version": "1.2.0",
            "_view_name": "LayoutView",
            "align_content": null,
            "align_items": null,
            "align_self": null,
            "border": null,
            "bottom": null,
            "display": null,
            "flex": null,
            "flex_flow": null,
            "grid_area": null,
            "grid_auto_columns": null,
            "grid_auto_flow": null,
            "grid_auto_rows": null,
            "grid_column": null,
            "grid_gap": null,
            "grid_row": null,
            "grid_template_areas": null,
            "grid_template_columns": null,
            "grid_template_rows": null,
            "height": null,
            "justify_content": null,
            "justify_items": null,
            "left": null,
            "margin": null,
            "max_height": null,
            "max_width": null,
            "min_height": null,
            "min_width": null,
            "object_fit": null,
            "object_position": null,
            "order": null,
            "overflow": null,
            "overflow_x": null,
            "overflow_y": null,
            "padding": null,
            "right": null,
            "top": null,
            "visibility": null,
            "width": null
          }
        },
        "bee652a2439b43139ca1afea9b24aa8b": {
          "model_module": "@jupyter-widgets/base",
          "model_name": "LayoutModel",
          "model_module_version": "1.2.0",
          "state": {
            "_model_module": "@jupyter-widgets/base",
            "_model_module_version": "1.2.0",
            "_model_name": "LayoutModel",
            "_view_count": null,
            "_view_module": "@jupyter-widgets/base",
            "_view_module_version": "1.2.0",
            "_view_name": "LayoutView",
            "align_content": null,
            "align_items": null,
            "align_self": null,
            "border": null,
            "bottom": null,
            "display": null,
            "flex": null,
            "flex_flow": null,
            "grid_area": null,
            "grid_auto_columns": null,
            "grid_auto_flow": null,
            "grid_auto_rows": null,
            "grid_column": null,
            "grid_gap": null,
            "grid_row": null,
            "grid_template_areas": null,
            "grid_template_columns": null,
            "grid_template_rows": null,
            "height": null,
            "justify_content": null,
            "justify_items": null,
            "left": null,
            "margin": null,
            "max_height": null,
            "max_width": null,
            "min_height": null,
            "min_width": null,
            "object_fit": null,
            "object_position": null,
            "order": null,
            "overflow": null,
            "overflow_x": null,
            "overflow_y": null,
            "padding": null,
            "right": null,
            "top": null,
            "visibility": null,
            "width": null
          }
        },
        "cf8258b4dd9940ff9fb17653399fdfd7": {
          "model_module": "@jupyter-widgets/controls",
          "model_name": "DescriptionStyleModel",
          "model_module_version": "1.5.0",
          "state": {
            "_model_module": "@jupyter-widgets/controls",
            "_model_module_version": "1.5.0",
            "_model_name": "DescriptionStyleModel",
            "_view_count": null,
            "_view_module": "@jupyter-widgets/base",
            "_view_module_version": "1.2.0",
            "_view_name": "StyleView",
            "description_width": ""
          }
        },
        "a03b12d960ee45d1aba5552c26bc88ce": {
          "model_module": "@jupyter-widgets/base",
          "model_name": "LayoutModel",
          "model_module_version": "1.2.0",
          "state": {
            "_model_module": "@jupyter-widgets/base",
            "_model_module_version": "1.2.0",
            "_model_name": "LayoutModel",
            "_view_count": null,
            "_view_module": "@jupyter-widgets/base",
            "_view_module_version": "1.2.0",
            "_view_name": "LayoutView",
            "align_content": null,
            "align_items": null,
            "align_self": null,
            "border": null,
            "bottom": null,
            "display": null,
            "flex": null,
            "flex_flow": null,
            "grid_area": null,
            "grid_auto_columns": null,
            "grid_auto_flow": null,
            "grid_auto_rows": null,
            "grid_column": null,
            "grid_gap": null,
            "grid_row": null,
            "grid_template_areas": null,
            "grid_template_columns": null,
            "grid_template_rows": null,
            "height": null,
            "justify_content": null,
            "justify_items": null,
            "left": null,
            "margin": null,
            "max_height": null,
            "max_width": null,
            "min_height": null,
            "min_width": null,
            "object_fit": null,
            "object_position": null,
            "order": null,
            "overflow": null,
            "overflow_x": null,
            "overflow_y": null,
            "padding": null,
            "right": null,
            "top": null,
            "visibility": null,
            "width": null
          }
        },
        "c155bc0536604ba9b8009993edb08be7": {
          "model_module": "@jupyter-widgets/controls",
          "model_name": "ProgressStyleModel",
          "model_module_version": "1.5.0",
          "state": {
            "_model_module": "@jupyter-widgets/controls",
            "_model_module_version": "1.5.0",
            "_model_name": "ProgressStyleModel",
            "_view_count": null,
            "_view_module": "@jupyter-widgets/base",
            "_view_module_version": "1.2.0",
            "_view_name": "StyleView",
            "bar_color": null,
            "description_width": ""
          }
        },
        "75a4c18a184d4e69bb457a41f81e4ba5": {
          "model_module": "@jupyter-widgets/base",
          "model_name": "LayoutModel",
          "model_module_version": "1.2.0",
          "state": {
            "_model_module": "@jupyter-widgets/base",
            "_model_module_version": "1.2.0",
            "_model_name": "LayoutModel",
            "_view_count": null,
            "_view_module": "@jupyter-widgets/base",
            "_view_module_version": "1.2.0",
            "_view_name": "LayoutView",
            "align_content": null,
            "align_items": null,
            "align_self": null,
            "border": null,
            "bottom": null,
            "display": null,
            "flex": null,
            "flex_flow": null,
            "grid_area": null,
            "grid_auto_columns": null,
            "grid_auto_flow": null,
            "grid_auto_rows": null,
            "grid_column": null,
            "grid_gap": null,
            "grid_row": null,
            "grid_template_areas": null,
            "grid_template_columns": null,
            "grid_template_rows": null,
            "height": null,
            "justify_content": null,
            "justify_items": null,
            "left": null,
            "margin": null,
            "max_height": null,
            "max_width": null,
            "min_height": null,
            "min_width": null,
            "object_fit": null,
            "object_position": null,
            "order": null,
            "overflow": null,
            "overflow_x": null,
            "overflow_y": null,
            "padding": null,
            "right": null,
            "top": null,
            "visibility": null,
            "width": null
          }
        },
        "fd3e52c46b564f4eb7aee5cfad5d7cf9": {
          "model_module": "@jupyter-widgets/controls",
          "model_name": "DescriptionStyleModel",
          "model_module_version": "1.5.0",
          "state": {
            "_model_module": "@jupyter-widgets/controls",
            "_model_module_version": "1.5.0",
            "_model_name": "DescriptionStyleModel",
            "_view_count": null,
            "_view_module": "@jupyter-widgets/base",
            "_view_module_version": "1.2.0",
            "_view_name": "StyleView",
            "description_width": ""
          }
        },
        "1a88c58639bb4699b8309db259c3335f": {
          "model_module": "@jupyter-widgets/controls",
          "model_name": "HBoxModel",
          "model_module_version": "1.5.0",
          "state": {
            "_dom_classes": [],
            "_model_module": "@jupyter-widgets/controls",
            "_model_module_version": "1.5.0",
            "_model_name": "HBoxModel",
            "_view_count": null,
            "_view_module": "@jupyter-widgets/controls",
            "_view_module_version": "1.5.0",
            "_view_name": "HBoxView",
            "box_style": "",
            "children": [
              "IPY_MODEL_70e6aae3fe774f508c46951b9bc95ef2",
              "IPY_MODEL_9b9f844fd637445bb463d1de1e33bd81",
              "IPY_MODEL_8d23a1f967b3473aa80d851337b3a26f"
            ],
            "layout": "IPY_MODEL_fd4d8a680c0f454dbca479b6f8c13f7f"
          }
        },
        "70e6aae3fe774f508c46951b9bc95ef2": {
          "model_module": "@jupyter-widgets/controls",
          "model_name": "HTMLModel",
          "model_module_version": "1.5.0",
          "state": {
            "_dom_classes": [],
            "_model_module": "@jupyter-widgets/controls",
            "_model_module_version": "1.5.0",
            "_model_name": "HTMLModel",
            "_view_count": null,
            "_view_module": "@jupyter-widgets/controls",
            "_view_module_version": "1.5.0",
            "_view_name": "HTMLView",
            "description": "",
            "description_tooltip": null,
            "layout": "IPY_MODEL_5ca3d3b8fab34326a42012ee2840881a",
            "placeholder": "​",
            "style": "IPY_MODEL_4f447408259d4dfea8f442a6e754643b",
            "value": "tokenizer.json: 100%"
          }
        },
        "9b9f844fd637445bb463d1de1e33bd81": {
          "model_module": "@jupyter-widgets/controls",
          "model_name": "FloatProgressModel",
          "model_module_version": "1.5.0",
          "state": {
            "_dom_classes": [],
            "_model_module": "@jupyter-widgets/controls",
            "_model_module_version": "1.5.0",
            "_model_name": "FloatProgressModel",
            "_view_count": null,
            "_view_module": "@jupyter-widgets/controls",
            "_view_module_version": "1.5.0",
            "_view_name": "ProgressView",
            "bar_style": "success",
            "description": "",
            "description_tooltip": null,
            "layout": "IPY_MODEL_10506846bb3f4b59b4c9a615bbfdd5c3",
            "max": 17525357,
            "min": 0,
            "orientation": "horizontal",
            "style": "IPY_MODEL_58a33a7caf354bd4b1d22c9696a736de",
            "value": 17525357
          }
        },
        "8d23a1f967b3473aa80d851337b3a26f": {
          "model_module": "@jupyter-widgets/controls",
          "model_name": "HTMLModel",
          "model_module_version": "1.5.0",
          "state": {
            "_dom_classes": [],
            "_model_module": "@jupyter-widgets/controls",
            "_model_module_version": "1.5.0",
            "_model_name": "HTMLModel",
            "_view_count": null,
            "_view_module": "@jupyter-widgets/controls",
            "_view_module_version": "1.5.0",
            "_view_name": "HTMLView",
            "description": "",
            "description_tooltip": null,
            "layout": "IPY_MODEL_4ebd1519c6814a9b9e3845c59d4ed6fb",
            "placeholder": "​",
            "style": "IPY_MODEL_6af2650b89cf42d497ff72dd5cd84578",
            "value": " 17.5M/17.5M [00:00&lt;00:00, 30.9MB/s]"
          }
        },
        "fd4d8a680c0f454dbca479b6f8c13f7f": {
          "model_module": "@jupyter-widgets/base",
          "model_name": "LayoutModel",
          "model_module_version": "1.2.0",
          "state": {
            "_model_module": "@jupyter-widgets/base",
            "_model_module_version": "1.2.0",
            "_model_name": "LayoutModel",
            "_view_count": null,
            "_view_module": "@jupyter-widgets/base",
            "_view_module_version": "1.2.0",
            "_view_name": "LayoutView",
            "align_content": null,
            "align_items": null,
            "align_self": null,
            "border": null,
            "bottom": null,
            "display": null,
            "flex": null,
            "flex_flow": null,
            "grid_area": null,
            "grid_auto_columns": null,
            "grid_auto_flow": null,
            "grid_auto_rows": null,
            "grid_column": null,
            "grid_gap": null,
            "grid_row": null,
            "grid_template_areas": null,
            "grid_template_columns": null,
            "grid_template_rows": null,
            "height": null,
            "justify_content": null,
            "justify_items": null,
            "left": null,
            "margin": null,
            "max_height": null,
            "max_width": null,
            "min_height": null,
            "min_width": null,
            "object_fit": null,
            "object_position": null,
            "order": null,
            "overflow": null,
            "overflow_x": null,
            "overflow_y": null,
            "padding": null,
            "right": null,
            "top": null,
            "visibility": null,
            "width": null
          }
        },
        "5ca3d3b8fab34326a42012ee2840881a": {
          "model_module": "@jupyter-widgets/base",
          "model_name": "LayoutModel",
          "model_module_version": "1.2.0",
          "state": {
            "_model_module": "@jupyter-widgets/base",
            "_model_module_version": "1.2.0",
            "_model_name": "LayoutModel",
            "_view_count": null,
            "_view_module": "@jupyter-widgets/base",
            "_view_module_version": "1.2.0",
            "_view_name": "LayoutView",
            "align_content": null,
            "align_items": null,
            "align_self": null,
            "border": null,
            "bottom": null,
            "display": null,
            "flex": null,
            "flex_flow": null,
            "grid_area": null,
            "grid_auto_columns": null,
            "grid_auto_flow": null,
            "grid_auto_rows": null,
            "grid_column": null,
            "grid_gap": null,
            "grid_row": null,
            "grid_template_areas": null,
            "grid_template_columns": null,
            "grid_template_rows": null,
            "height": null,
            "justify_content": null,
            "justify_items": null,
            "left": null,
            "margin": null,
            "max_height": null,
            "max_width": null,
            "min_height": null,
            "min_width": null,
            "object_fit": null,
            "object_position": null,
            "order": null,
            "overflow": null,
            "overflow_x": null,
            "overflow_y": null,
            "padding": null,
            "right": null,
            "top": null,
            "visibility": null,
            "width": null
          }
        },
        "4f447408259d4dfea8f442a6e754643b": {
          "model_module": "@jupyter-widgets/controls",
          "model_name": "DescriptionStyleModel",
          "model_module_version": "1.5.0",
          "state": {
            "_model_module": "@jupyter-widgets/controls",
            "_model_module_version": "1.5.0",
            "_model_name": "DescriptionStyleModel",
            "_view_count": null,
            "_view_module": "@jupyter-widgets/base",
            "_view_module_version": "1.2.0",
            "_view_name": "StyleView",
            "description_width": ""
          }
        },
        "10506846bb3f4b59b4c9a615bbfdd5c3": {
          "model_module": "@jupyter-widgets/base",
          "model_name": "LayoutModel",
          "model_module_version": "1.2.0",
          "state": {
            "_model_module": "@jupyter-widgets/base",
            "_model_module_version": "1.2.0",
            "_model_name": "LayoutModel",
            "_view_count": null,
            "_view_module": "@jupyter-widgets/base",
            "_view_module_version": "1.2.0",
            "_view_name": "LayoutView",
            "align_content": null,
            "align_items": null,
            "align_self": null,
            "border": null,
            "bottom": null,
            "display": null,
            "flex": null,
            "flex_flow": null,
            "grid_area": null,
            "grid_auto_columns": null,
            "grid_auto_flow": null,
            "grid_auto_rows": null,
            "grid_column": null,
            "grid_gap": null,
            "grid_row": null,
            "grid_template_areas": null,
            "grid_template_columns": null,
            "grid_template_rows": null,
            "height": null,
            "justify_content": null,
            "justify_items": null,
            "left": null,
            "margin": null,
            "max_height": null,
            "max_width": null,
            "min_height": null,
            "min_width": null,
            "object_fit": null,
            "object_position": null,
            "order": null,
            "overflow": null,
            "overflow_x": null,
            "overflow_y": null,
            "padding": null,
            "right": null,
            "top": null,
            "visibility": null,
            "width": null
          }
        },
        "58a33a7caf354bd4b1d22c9696a736de": {
          "model_module": "@jupyter-widgets/controls",
          "model_name": "ProgressStyleModel",
          "model_module_version": "1.5.0",
          "state": {
            "_model_module": "@jupyter-widgets/controls",
            "_model_module_version": "1.5.0",
            "_model_name": "ProgressStyleModel",
            "_view_count": null,
            "_view_module": "@jupyter-widgets/base",
            "_view_module_version": "1.2.0",
            "_view_name": "StyleView",
            "bar_color": null,
            "description_width": ""
          }
        },
        "4ebd1519c6814a9b9e3845c59d4ed6fb": {
          "model_module": "@jupyter-widgets/base",
          "model_name": "LayoutModel",
          "model_module_version": "1.2.0",
          "state": {
            "_model_module": "@jupyter-widgets/base",
            "_model_module_version": "1.2.0",
            "_model_name": "LayoutModel",
            "_view_count": null,
            "_view_module": "@jupyter-widgets/base",
            "_view_module_version": "1.2.0",
            "_view_name": "LayoutView",
            "align_content": null,
            "align_items": null,
            "align_self": null,
            "border": null,
            "bottom": null,
            "display": null,
            "flex": null,
            "flex_flow": null,
            "grid_area": null,
            "grid_auto_columns": null,
            "grid_auto_flow": null,
            "grid_auto_rows": null,
            "grid_column": null,
            "grid_gap": null,
            "grid_row": null,
            "grid_template_areas": null,
            "grid_template_columns": null,
            "grid_template_rows": null,
            "height": null,
            "justify_content": null,
            "justify_items": null,
            "left": null,
            "margin": null,
            "max_height": null,
            "max_width": null,
            "min_height": null,
            "min_width": null,
            "object_fit": null,
            "object_position": null,
            "order": null,
            "overflow": null,
            "overflow_x": null,
            "overflow_y": null,
            "padding": null,
            "right": null,
            "top": null,
            "visibility": null,
            "width": null
          }
        },
        "6af2650b89cf42d497ff72dd5cd84578": {
          "model_module": "@jupyter-widgets/controls",
          "model_name": "DescriptionStyleModel",
          "model_module_version": "1.5.0",
          "state": {
            "_model_module": "@jupyter-widgets/controls",
            "_model_module_version": "1.5.0",
            "_model_name": "DescriptionStyleModel",
            "_view_count": null,
            "_view_module": "@jupyter-widgets/base",
            "_view_module_version": "1.2.0",
            "_view_name": "StyleView",
            "description_width": ""
          }
        },
        "d7e045ae4c3a474cbb3926de33c84dc5": {
          "model_module": "@jupyter-widgets/controls",
          "model_name": "HBoxModel",
          "model_module_version": "1.5.0",
          "state": {
            "_dom_classes": [],
            "_model_module": "@jupyter-widgets/controls",
            "_model_module_version": "1.5.0",
            "_model_name": "HBoxModel",
            "_view_count": null,
            "_view_module": "@jupyter-widgets/controls",
            "_view_module_version": "1.5.0",
            "_view_name": "HBoxView",
            "box_style": "",
            "children": [
              "IPY_MODEL_e5ee6b5d27334751b222966c250bd475",
              "IPY_MODEL_f08c64e628694e729e4300dfa362ce4d",
              "IPY_MODEL_0d257604826e458d8ff1d05d0af14c41"
            ],
            "layout": "IPY_MODEL_47d528e76088451aacb297bd06d18278"
          }
        },
        "e5ee6b5d27334751b222966c250bd475": {
          "model_module": "@jupyter-widgets/controls",
          "model_name": "HTMLModel",
          "model_module_version": "1.5.0",
          "state": {
            "_dom_classes": [],
            "_model_module": "@jupyter-widgets/controls",
            "_model_module_version": "1.5.0",
            "_model_name": "HTMLModel",
            "_view_count": null,
            "_view_module": "@jupyter-widgets/controls",
            "_view_module_version": "1.5.0",
            "_view_name": "HTMLView",
            "description": "",
            "description_tooltip": null,
            "layout": "IPY_MODEL_312bec641bfe470fae647e39b90c3b9a",
            "placeholder": "​",
            "style": "IPY_MODEL_dfdefacbd1b244c2a27f8540df3d3b8e",
            "value": "Map: 100%"
          }
        },
        "f08c64e628694e729e4300dfa362ce4d": {
          "model_module": "@jupyter-widgets/controls",
          "model_name": "FloatProgressModel",
          "model_module_version": "1.5.0",
          "state": {
            "_dom_classes": [],
            "_model_module": "@jupyter-widgets/controls",
            "_model_module_version": "1.5.0",
            "_model_name": "FloatProgressModel",
            "_view_count": null,
            "_view_module": "@jupyter-widgets/controls",
            "_view_module_version": "1.5.0",
            "_view_name": "ProgressView",
            "bar_style": "success",
            "description": "",
            "description_tooltip": null,
            "layout": "IPY_MODEL_ab5650bbe91f4c8f884e4a610c7303fe",
            "max": 7000,
            "min": 0,
            "orientation": "horizontal",
            "style": "IPY_MODEL_a4f4cbc532ea46ef9ba2a3d7f09d8b81",
            "value": 7000
          }
        },
        "0d257604826e458d8ff1d05d0af14c41": {
          "model_module": "@jupyter-widgets/controls",
          "model_name": "HTMLModel",
          "model_module_version": "1.5.0",
          "state": {
            "_dom_classes": [],
            "_model_module": "@jupyter-widgets/controls",
            "_model_module_version": "1.5.0",
            "_model_name": "HTMLModel",
            "_view_count": null,
            "_view_module": "@jupyter-widgets/controls",
            "_view_module_version": "1.5.0",
            "_view_name": "HTMLView",
            "description": "",
            "description_tooltip": null,
            "layout": "IPY_MODEL_64fefa62b93841d1bfa4e946df459932",
            "placeholder": "​",
            "style": "IPY_MODEL_456cad7f450c4712b0993c3d9c0aa6b8",
            "value": " 7000/7000 [00:00&lt;00:00, 79056.41 examples/s]"
          }
        },
        "47d528e76088451aacb297bd06d18278": {
          "model_module": "@jupyter-widgets/base",
          "model_name": "LayoutModel",
          "model_module_version": "1.2.0",
          "state": {
            "_model_module": "@jupyter-widgets/base",
            "_model_module_version": "1.2.0",
            "_model_name": "LayoutModel",
            "_view_count": null,
            "_view_module": "@jupyter-widgets/base",
            "_view_module_version": "1.2.0",
            "_view_name": "LayoutView",
            "align_content": null,
            "align_items": null,
            "align_self": null,
            "border": null,
            "bottom": null,
            "display": null,
            "flex": null,
            "flex_flow": null,
            "grid_area": null,
            "grid_auto_columns": null,
            "grid_auto_flow": null,
            "grid_auto_rows": null,
            "grid_column": null,
            "grid_gap": null,
            "grid_row": null,
            "grid_template_areas": null,
            "grid_template_columns": null,
            "grid_template_rows": null,
            "height": null,
            "justify_content": null,
            "justify_items": null,
            "left": null,
            "margin": null,
            "max_height": null,
            "max_width": null,
            "min_height": null,
            "min_width": null,
            "object_fit": null,
            "object_position": null,
            "order": null,
            "overflow": null,
            "overflow_x": null,
            "overflow_y": null,
            "padding": null,
            "right": null,
            "top": null,
            "visibility": null,
            "width": null
          }
        },
        "312bec641bfe470fae647e39b90c3b9a": {
          "model_module": "@jupyter-widgets/base",
          "model_name": "LayoutModel",
          "model_module_version": "1.2.0",
          "state": {
            "_model_module": "@jupyter-widgets/base",
            "_model_module_version": "1.2.0",
            "_model_name": "LayoutModel",
            "_view_count": null,
            "_view_module": "@jupyter-widgets/base",
            "_view_module_version": "1.2.0",
            "_view_name": "LayoutView",
            "align_content": null,
            "align_items": null,
            "align_self": null,
            "border": null,
            "bottom": null,
            "display": null,
            "flex": null,
            "flex_flow": null,
            "grid_area": null,
            "grid_auto_columns": null,
            "grid_auto_flow": null,
            "grid_auto_rows": null,
            "grid_column": null,
            "grid_gap": null,
            "grid_row": null,
            "grid_template_areas": null,
            "grid_template_columns": null,
            "grid_template_rows": null,
            "height": null,
            "justify_content": null,
            "justify_items": null,
            "left": null,
            "margin": null,
            "max_height": null,
            "max_width": null,
            "min_height": null,
            "min_width": null,
            "object_fit": null,
            "object_position": null,
            "order": null,
            "overflow": null,
            "overflow_x": null,
            "overflow_y": null,
            "padding": null,
            "right": null,
            "top": null,
            "visibility": null,
            "width": null
          }
        },
        "dfdefacbd1b244c2a27f8540df3d3b8e": {
          "model_module": "@jupyter-widgets/controls",
          "model_name": "DescriptionStyleModel",
          "model_module_version": "1.5.0",
          "state": {
            "_model_module": "@jupyter-widgets/controls",
            "_model_module_version": "1.5.0",
            "_model_name": "DescriptionStyleModel",
            "_view_count": null,
            "_view_module": "@jupyter-widgets/base",
            "_view_module_version": "1.2.0",
            "_view_name": "StyleView",
            "description_width": ""
          }
        },
        "ab5650bbe91f4c8f884e4a610c7303fe": {
          "model_module": "@jupyter-widgets/base",
          "model_name": "LayoutModel",
          "model_module_version": "1.2.0",
          "state": {
            "_model_module": "@jupyter-widgets/base",
            "_model_module_version": "1.2.0",
            "_model_name": "LayoutModel",
            "_view_count": null,
            "_view_module": "@jupyter-widgets/base",
            "_view_module_version": "1.2.0",
            "_view_name": "LayoutView",
            "align_content": null,
            "align_items": null,
            "align_self": null,
            "border": null,
            "bottom": null,
            "display": null,
            "flex": null,
            "flex_flow": null,
            "grid_area": null,
            "grid_auto_columns": null,
            "grid_auto_flow": null,
            "grid_auto_rows": null,
            "grid_column": null,
            "grid_gap": null,
            "grid_row": null,
            "grid_template_areas": null,
            "grid_template_columns": null,
            "grid_template_rows": null,
            "height": null,
            "justify_content": null,
            "justify_items": null,
            "left": null,
            "margin": null,
            "max_height": null,
            "max_width": null,
            "min_height": null,
            "min_width": null,
            "object_fit": null,
            "object_position": null,
            "order": null,
            "overflow": null,
            "overflow_x": null,
            "overflow_y": null,
            "padding": null,
            "right": null,
            "top": null,
            "visibility": null,
            "width": null
          }
        },
        "a4f4cbc532ea46ef9ba2a3d7f09d8b81": {
          "model_module": "@jupyter-widgets/controls",
          "model_name": "ProgressStyleModel",
          "model_module_version": "1.5.0",
          "state": {
            "_model_module": "@jupyter-widgets/controls",
            "_model_module_version": "1.5.0",
            "_model_name": "ProgressStyleModel",
            "_view_count": null,
            "_view_module": "@jupyter-widgets/base",
            "_view_module_version": "1.2.0",
            "_view_name": "StyleView",
            "bar_color": null,
            "description_width": ""
          }
        },
        "64fefa62b93841d1bfa4e946df459932": {
          "model_module": "@jupyter-widgets/base",
          "model_name": "LayoutModel",
          "model_module_version": "1.2.0",
          "state": {
            "_model_module": "@jupyter-widgets/base",
            "_model_module_version": "1.2.0",
            "_model_name": "LayoutModel",
            "_view_count": null,
            "_view_module": "@jupyter-widgets/base",
            "_view_module_version": "1.2.0",
            "_view_name": "LayoutView",
            "align_content": null,
            "align_items": null,
            "align_self": null,
            "border": null,
            "bottom": null,
            "display": null,
            "flex": null,
            "flex_flow": null,
            "grid_area": null,
            "grid_auto_columns": null,
            "grid_auto_flow": null,
            "grid_auto_rows": null,
            "grid_column": null,
            "grid_gap": null,
            "grid_row": null,
            "grid_template_areas": null,
            "grid_template_columns": null,
            "grid_template_rows": null,
            "height": null,
            "justify_content": null,
            "justify_items": null,
            "left": null,
            "margin": null,
            "max_height": null,
            "max_width": null,
            "min_height": null,
            "min_width": null,
            "object_fit": null,
            "object_position": null,
            "order": null,
            "overflow": null,
            "overflow_x": null,
            "overflow_y": null,
            "padding": null,
            "right": null,
            "top": null,
            "visibility": null,
            "width": null
          }
        },
        "456cad7f450c4712b0993c3d9c0aa6b8": {
          "model_module": "@jupyter-widgets/controls",
          "model_name": "DescriptionStyleModel",
          "model_module_version": "1.5.0",
          "state": {
            "_model_module": "@jupyter-widgets/controls",
            "_model_module_version": "1.5.0",
            "_model_name": "DescriptionStyleModel",
            "_view_count": null,
            "_view_module": "@jupyter-widgets/base",
            "_view_module_version": "1.2.0",
            "_view_name": "StyleView",
            "description_width": ""
          }
        },
        "daf56ff014d544ab802f1806444b6597": {
          "model_module": "@jupyter-widgets/controls",
          "model_name": "HBoxModel",
          "model_module_version": "1.5.0",
          "state": {
            "_dom_classes": [],
            "_model_module": "@jupyter-widgets/controls",
            "_model_module_version": "1.5.0",
            "_model_name": "HBoxModel",
            "_view_count": null,
            "_view_module": "@jupyter-widgets/controls",
            "_view_module_version": "1.5.0",
            "_view_name": "HBoxView",
            "box_style": "",
            "children": [
              "IPY_MODEL_4a6e5700dc3846cc992838516fa95339",
              "IPY_MODEL_9c33d3ad52774275ba8a9fa47e5524bb",
              "IPY_MODEL_f818b883c69e4fe38c6c67f5cfbc6fea"
            ],
            "layout": "IPY_MODEL_e76cd7537c0b4eee99a0dd1898756b1b"
          }
        },
        "4a6e5700dc3846cc992838516fa95339": {
          "model_module": "@jupyter-widgets/controls",
          "model_name": "HTMLModel",
          "model_module_version": "1.5.0",
          "state": {
            "_dom_classes": [],
            "_model_module": "@jupyter-widgets/controls",
            "_model_module_version": "1.5.0",
            "_model_name": "HTMLModel",
            "_view_count": null,
            "_view_module": "@jupyter-widgets/controls",
            "_view_module_version": "1.5.0",
            "_view_name": "HTMLView",
            "description": "",
            "description_tooltip": null,
            "layout": "IPY_MODEL_51fab09c9cfa4e90939a09a648bf9e37",
            "placeholder": "​",
            "style": "IPY_MODEL_31207253c9ff49828d6fbfce026647be",
            "value": "Map (num_proc=2): 100%"
          }
        },
        "9c33d3ad52774275ba8a9fa47e5524bb": {
          "model_module": "@jupyter-widgets/controls",
          "model_name": "FloatProgressModel",
          "model_module_version": "1.5.0",
          "state": {
            "_dom_classes": [],
            "_model_module": "@jupyter-widgets/controls",
            "_model_module_version": "1.5.0",
            "_model_name": "FloatProgressModel",
            "_view_count": null,
            "_view_module": "@jupyter-widgets/controls",
            "_view_module_version": "1.5.0",
            "_view_name": "ProgressView",
            "bar_style": "success",
            "description": "",
            "description_tooltip": null,
            "layout": "IPY_MODEL_5c67f5acb564491a86edf8597c51fbff",
            "max": 6900,
            "min": 0,
            "orientation": "horizontal",
            "style": "IPY_MODEL_ad7fb78571e84bc6872b992c7499996f",
            "value": 6900
          }
        },
        "f818b883c69e4fe38c6c67f5cfbc6fea": {
          "model_module": "@jupyter-widgets/controls",
          "model_name": "HTMLModel",
          "model_module_version": "1.5.0",
          "state": {
            "_dom_classes": [],
            "_model_module": "@jupyter-widgets/controls",
            "_model_module_version": "1.5.0",
            "_model_name": "HTMLModel",
            "_view_count": null,
            "_view_module": "@jupyter-widgets/controls",
            "_view_module_version": "1.5.0",
            "_view_name": "HTMLView",
            "description": "",
            "description_tooltip": null,
            "layout": "IPY_MODEL_8d21461896654b369ef7cccc143807fe",
            "placeholder": "​",
            "style": "IPY_MODEL_df8c7a24deae4e6288b614866405a130",
            "value": " 6900/6900 [00:06&lt;00:00, 2111.50 examples/s]"
          }
        },
        "e76cd7537c0b4eee99a0dd1898756b1b": {
          "model_module": "@jupyter-widgets/base",
          "model_name": "LayoutModel",
          "model_module_version": "1.2.0",
          "state": {
            "_model_module": "@jupyter-widgets/base",
            "_model_module_version": "1.2.0",
            "_model_name": "LayoutModel",
            "_view_count": null,
            "_view_module": "@jupyter-widgets/base",
            "_view_module_version": "1.2.0",
            "_view_name": "LayoutView",
            "align_content": null,
            "align_items": null,
            "align_self": null,
            "border": null,
            "bottom": null,
            "display": null,
            "flex": null,
            "flex_flow": null,
            "grid_area": null,
            "grid_auto_columns": null,
            "grid_auto_flow": null,
            "grid_auto_rows": null,
            "grid_column": null,
            "grid_gap": null,
            "grid_row": null,
            "grid_template_areas": null,
            "grid_template_columns": null,
            "grid_template_rows": null,
            "height": null,
            "justify_content": null,
            "justify_items": null,
            "left": null,
            "margin": null,
            "max_height": null,
            "max_width": null,
            "min_height": null,
            "min_width": null,
            "object_fit": null,
            "object_position": null,
            "order": null,
            "overflow": null,
            "overflow_x": null,
            "overflow_y": null,
            "padding": null,
            "right": null,
            "top": null,
            "visibility": null,
            "width": null
          }
        },
        "51fab09c9cfa4e90939a09a648bf9e37": {
          "model_module": "@jupyter-widgets/base",
          "model_name": "LayoutModel",
          "model_module_version": "1.2.0",
          "state": {
            "_model_module": "@jupyter-widgets/base",
            "_model_module_version": "1.2.0",
            "_model_name": "LayoutModel",
            "_view_count": null,
            "_view_module": "@jupyter-widgets/base",
            "_view_module_version": "1.2.0",
            "_view_name": "LayoutView",
            "align_content": null,
            "align_items": null,
            "align_self": null,
            "border": null,
            "bottom": null,
            "display": null,
            "flex": null,
            "flex_flow": null,
            "grid_area": null,
            "grid_auto_columns": null,
            "grid_auto_flow": null,
            "grid_auto_rows": null,
            "grid_column": null,
            "grid_gap": null,
            "grid_row": null,
            "grid_template_areas": null,
            "grid_template_columns": null,
            "grid_template_rows": null,
            "height": null,
            "justify_content": null,
            "justify_items": null,
            "left": null,
            "margin": null,
            "max_height": null,
            "max_width": null,
            "min_height": null,
            "min_width": null,
            "object_fit": null,
            "object_position": null,
            "order": null,
            "overflow": null,
            "overflow_x": null,
            "overflow_y": null,
            "padding": null,
            "right": null,
            "top": null,
            "visibility": null,
            "width": null
          }
        },
        "31207253c9ff49828d6fbfce026647be": {
          "model_module": "@jupyter-widgets/controls",
          "model_name": "DescriptionStyleModel",
          "model_module_version": "1.5.0",
          "state": {
            "_model_module": "@jupyter-widgets/controls",
            "_model_module_version": "1.5.0",
            "_model_name": "DescriptionStyleModel",
            "_view_count": null,
            "_view_module": "@jupyter-widgets/base",
            "_view_module_version": "1.2.0",
            "_view_name": "StyleView",
            "description_width": ""
          }
        },
        "5c67f5acb564491a86edf8597c51fbff": {
          "model_module": "@jupyter-widgets/base",
          "model_name": "LayoutModel",
          "model_module_version": "1.2.0",
          "state": {
            "_model_module": "@jupyter-widgets/base",
            "_model_module_version": "1.2.0",
            "_model_name": "LayoutModel",
            "_view_count": null,
            "_view_module": "@jupyter-widgets/base",
            "_view_module_version": "1.2.0",
            "_view_name": "LayoutView",
            "align_content": null,
            "align_items": null,
            "align_self": null,
            "border": null,
            "bottom": null,
            "display": null,
            "flex": null,
            "flex_flow": null,
            "grid_area": null,
            "grid_auto_columns": null,
            "grid_auto_flow": null,
            "grid_auto_rows": null,
            "grid_column": null,
            "grid_gap": null,
            "grid_row": null,
            "grid_template_areas": null,
            "grid_template_columns": null,
            "grid_template_rows": null,
            "height": null,
            "justify_content": null,
            "justify_items": null,
            "left": null,
            "margin": null,
            "max_height": null,
            "max_width": null,
            "min_height": null,
            "min_width": null,
            "object_fit": null,
            "object_position": null,
            "order": null,
            "overflow": null,
            "overflow_x": null,
            "overflow_y": null,
            "padding": null,
            "right": null,
            "top": null,
            "visibility": null,
            "width": null
          }
        },
        "ad7fb78571e84bc6872b992c7499996f": {
          "model_module": "@jupyter-widgets/controls",
          "model_name": "ProgressStyleModel",
          "model_module_version": "1.5.0",
          "state": {
            "_model_module": "@jupyter-widgets/controls",
            "_model_module_version": "1.5.0",
            "_model_name": "ProgressStyleModel",
            "_view_count": null,
            "_view_module": "@jupyter-widgets/base",
            "_view_module_version": "1.2.0",
            "_view_name": "StyleView",
            "bar_color": null,
            "description_width": ""
          }
        },
        "8d21461896654b369ef7cccc143807fe": {
          "model_module": "@jupyter-widgets/base",
          "model_name": "LayoutModel",
          "model_module_version": "1.2.0",
          "state": {
            "_model_module": "@jupyter-widgets/base",
            "_model_module_version": "1.2.0",
            "_model_name": "LayoutModel",
            "_view_count": null,
            "_view_module": "@jupyter-widgets/base",
            "_view_module_version": "1.2.0",
            "_view_name": "LayoutView",
            "align_content": null,
            "align_items": null,
            "align_self": null,
            "border": null,
            "bottom": null,
            "display": null,
            "flex": null,
            "flex_flow": null,
            "grid_area": null,
            "grid_auto_columns": null,
            "grid_auto_flow": null,
            "grid_auto_rows": null,
            "grid_column": null,
            "grid_gap": null,
            "grid_row": null,
            "grid_template_areas": null,
            "grid_template_columns": null,
            "grid_template_rows": null,
            "height": null,
            "justify_content": null,
            "justify_items": null,
            "left": null,
            "margin": null,
            "max_height": null,
            "max_width": null,
            "min_height": null,
            "min_width": null,
            "object_fit": null,
            "object_position": null,
            "order": null,
            "overflow": null,
            "overflow_x": null,
            "overflow_y": null,
            "padding": null,
            "right": null,
            "top": null,
            "visibility": null,
            "width": null
          }
        },
        "df8c7a24deae4e6288b614866405a130": {
          "model_module": "@jupyter-widgets/controls",
          "model_name": "DescriptionStyleModel",
          "model_module_version": "1.5.0",
          "state": {
            "_model_module": "@jupyter-widgets/controls",
            "_model_module_version": "1.5.0",
            "_model_name": "DescriptionStyleModel",
            "_view_count": null,
            "_view_module": "@jupyter-widgets/base",
            "_view_module_version": "1.2.0",
            "_view_name": "StyleView",
            "description_width": ""
          }
        }
      }
    }
  },
  "cells": [
    {
      "cell_type": "markdown",
      "metadata": {
        "id": "view-in-github",
        "colab_type": "text"
      },
      "source": [
        "<a href=\"https://colab.research.google.com/github/disturbed-mystic1/DSC-253-Project/blob/main/RAG_BLEU_score_comparison.ipynb\" target=\"_parent\"><img src=\"https://colab.research.google.com/assets/colab-badge.svg\" alt=\"Open In Colab\"/></a>"
      ]
    },
    {
      "cell_type": "markdown",
      "source": [
        "# LLaMa - 3 Financial Analyst\n",
        "\n",
        "---\n",
        "In this notebook we will:\n",
        "1. Fine tune a local model of LLaMa 3 on form 10-K Contextual Q&A Data using supervised fine tuning & Low Rank Adaptation\n",
        "2. Set up an SEC Data pipeline to retrieve recent form 10-K's\n",
        "3. Use local embedding and in memory vector stores to create a retrieval function\n",
        "4. Combine everything above to make a simple financial analysis RAG agent!\n",
        "\n",
        "Prepared by [Adam Lucek](https://www.youtube.com/@AdamLucek), Check out my [video walkthrough with this link](https://www.youtube.com/watch?v=GfjUJ1TnI-o) or by clicking on the video below\n",
        "👇\n",
        "\n",
        "[![Thumbnail](https://i.imgur.com/NAFuTvC.png)](https://www.youtube.com/watch?v=GfjUJ1TnI-o)\n",
        "\n",
        "---"
      ],
      "metadata": {
        "id": "sYSToEq3T-xv"
      }
    },
    {
      "cell_type": "code",
      "source": [
        "from google.colab import drive\n",
        "drive.mount('/content/drive')"
      ],
      "metadata": {
        "colab": {
          "base_uri": "https://localhost:8080/"
        },
        "id": "DQxkMC5h7lNL",
        "outputId": "49ee1750-f9d7-4b39-dc6e-09f99f154f93"
      },
      "execution_count": 1,
      "outputs": [
        {
          "output_type": "stream",
          "name": "stdout",
          "text": [
            "Drive already mounted at /content/drive; to attempt to forcibly remount, call drive.mount(\"/content/drive\", force_remount=True).\n"
          ]
        }
      ]
    },
    {
      "cell_type": "markdown",
      "source": [
        "### *Remember to change your runtime to the T4 GPU in the top right corner*\n",
        "\n",
        "\n",
        "Installing Dependencies and Setting API Keys"
      ],
      "metadata": {
        "id": "XzIjo8eBVTZK"
      }
    },
    {
      "cell_type": "markdown",
      "source": [],
      "metadata": {
        "id": "J7yJFPweIn7K"
      }
    },
    {
      "cell_type": "code",
      "source": [
        "%%capture\n",
        "# Installs Unsloth, Xformers (Flash Attention) and all other packages\n",
        "!pip install \"unsloth[colab-new] @ git+https://github.com/unslothai/unsloth.git\"\n",
        "!pip install --no-deps xformers trl peft accelerate bitsandbytes\n",
        "!pip install sec_api\n",
        "!pip install -U langchain\n",
        "!pip install -U langchain-community\n",
        "!pip install -U sentence-transformers\n",
        "!pip install -U faiss-gpu"
      ],
      "metadata": {
        "id": "ScsT9j9dVOUX"
      },
      "execution_count": 2,
      "outputs": []
    },
    {
      "cell_type": "markdown",
      "source": [
        "HuggingFace Token Found: https://huggingface.co/settings/tokens  \n",
        "Free SEC API Key Here: https://sec-api.io/"
      ],
      "metadata": {
        "id": "cK8V6P9uYFJz"
      }
    },
    {
      "cell_type": "code",
      "source": [
        "# HuggingFace token, required for accessing gated models (like LLaMa 3 8B Instruct)\n",
        "hf_token = \"\"\n",
        "# SEC-API Key\n",
        "sec_api_key = \"\""
      ],
      "metadata": {
        "id": "QDWUaWyg_aXU"
      },
      "execution_count": 3,
      "outputs": []
    },
    {
      "cell_type": "code",
      "source": [
        "# Fine Tuning Related Packages\n",
        "from unsloth import FastLanguageModel\n",
        "import torch\n",
        "from datasets import load_dataset\n",
        "from trl import SFTTrainer\n",
        "from transformers import TrainingArguments\n",
        "from unsloth import is_bfloat16_supported\n",
        "\n",
        "# Pipeline & RAG Related Packages\n",
        "from sec_api import ExtractorApi, QueryApi\n",
        "from langchain.embeddings import HuggingFaceEmbeddings\n",
        "from langchain_community.vectorstores import FAISS\n",
        "from langchain_text_splitters import RecursiveCharacterTextSplitter"
      ],
      "metadata": {
        "id": "D3ZbEMgkXadw",
        "colab": {
          "base_uri": "https://localhost:8080/"
        },
        "outputId": "4d0b2a9f-fcc6-4000-ac2b-891fdd17bb00"
      },
      "execution_count": 4,
      "outputs": [
        {
          "output_type": "stream",
          "name": "stdout",
          "text": [
            "🦥 Unsloth: Will patch your computer to enable 2x faster free finetuning.\n",
            "🦥 Unsloth Zoo will now patch everything to make training faster!\n"
          ]
        }
      ]
    },
    {
      "cell_type": "markdown",
      "source": [
        "---\n",
        "## **Part 1: Fine Tuning LLaMa 3 with Unsloth**\n",
        "\n",
        "We will be using the built in GPU on Colab to do all our fine tuning needs, using the [Unsloth Library](https://github.com/unslothai/unsloth).\n",
        "\n",
        "Much of the below code is augmented from [Unsloth Documentation!](https://colab.research.google.com/drive/135ced7oHytdxu3N2DNe1Z0kqjyYIkDXp?usp=sharing#scrollTo=AEEcJ4qfC7Lp)\n"
      ],
      "metadata": {
        "id": "tFQG7S2r-fHH"
      }
    },
    {
      "cell_type": "markdown",
      "source": [
        "### **Initializing Pre Trained Model and Tokenizer**\n",
        "\n",
        "For this example we will be using Meta's [LLaMa 3 8b Instruct Model](https://huggingface.co/meta-llama/Meta-Llama-3-8B-Instruct).  \n",
        " **NOTE**: This is a gated model, you must request access on HF and pass in your HF token in the below step."
      ],
      "metadata": {
        "id": "fUTS-86d-5XX"
      }
    },
    {
      "cell_type": "code",
      "source": [
        "# Load the model and tokenizer from the pre-trained FastLanguageModel\n",
        "model, tokenizer = FastLanguageModel.from_pretrained(\n",
        "    # Specify the pre-trained model to use\n",
        "    # model_name = \"meta-llama/Meta-Llama-3-8B-Instruct\",\n",
        "    model_name = \"unsloth/mistral-7b-v0.3\",\n",
        "\n",
        "    # Specifies the maximum number of tokens (words or subwords) that the model can process in a single forward pass\n",
        "    max_seq_length = 2048,\n",
        "    # Data type for the model. None means auto-detection based on hardware, Float16 for specific hardware like Tesla T4\n",
        "    dtype = None,\n",
        "    # Enable 4-bit quantization, By quantizing the weights of the model to 4 bits instead of the usual 16 or 32 bits, the memory required to store these weights is significantly reduced. This allows larger models to be run on hardware with limited memory resources.\n",
        "    load_in_4bit = True,\n",
        "    # Access token for gated models, required for authentication to use models like Meta-Llama-2-7b-hf\n",
        "    token = hf_token,\n",
        ")\n"
      ],
      "metadata": {
        "colab": {
          "base_uri": "https://localhost:8080/",
          "height": 281,
          "referenced_widgets": [
            "b799003a20c54d2289de25a9e70f95b4",
            "5b12d4b3bb4043bdb6304083f59c19aa",
            "998bf36566ba444587c26770b39941e8",
            "ffbcdab89f814ef696a0e3ff152c71ef",
            "34b5d0885c78411ebee7ebb4dcbec976",
            "444cfb2f20924bda96ecfb802021848d",
            "25f681afd31042fbaff3aa6dc16653a9",
            "ef344c426f1149ffbd04ce6b57c51342",
            "bd2c1e01c42e465cb2a318e1985870ca",
            "da8b79ba13324c368ddf6395f24f773e",
            "65d6aa8df1a046ca9d18e1030fc0fca0",
            "e74cb93b6eda49e7bbbf638a62725cfc",
            "9cf4a55af9d3493a81665a8fa6f8172a",
            "36e80c8229bd49d48f97f4931cb4b1f0",
            "6b1a0568626748dda844013886c8940f",
            "c8c21d6b281a417d86bd99c20fd950fa",
            "3c188afce53a4e5790b97b0cda20e4f3",
            "ec65cbd557a04551a3ffb8b35ee00dda",
            "e4dc49be95d74b818ece79f68a39f214",
            "bb73fbbbf0de4e18a4b0e18216fa663a",
            "6d555c03fce84cab80aec0aa760cd4c1",
            "8cfa9d628c9043f599c6be3fe57a8dc7",
            "36646ec698db4ddf8d93852daaa796b5",
            "24b4a751ce964ec7a221adafb92eb6a5",
            "b64059b2907e482a9cd8d9f1e6c1d24a",
            "2a86ef8fa8a745dba526d7a06c46dfac",
            "a1be8327bf1f47a19502a4af181336bd",
            "adc6a48f58ec4f8db1634623082845c1",
            "498255e7a53c4de589f1ce4a0e9e96d8",
            "441d2b44f1ec409db895663a4a1910c8",
            "1d4447c1591e496f9530a6e833f64427",
            "8677796cbeed4712964cf7bee96a4370",
            "326fcb88be024de1b0a94309add14fc4",
            "423e0a3bc0744c2abf2890b5726aab68",
            "14114b81f940429ab696909b0516bc45",
            "fc427d4e32524e4b8dee7b96f2c6b628",
            "33cb30e8d9764cad8de7c673b2e4e949",
            "666d41240a184ddda5bb64f6c7a58310",
            "bee652a2439b43139ca1afea9b24aa8b",
            "cf8258b4dd9940ff9fb17653399fdfd7",
            "a03b12d960ee45d1aba5552c26bc88ce",
            "c155bc0536604ba9b8009993edb08be7",
            "75a4c18a184d4e69bb457a41f81e4ba5",
            "fd3e52c46b564f4eb7aee5cfad5d7cf9",
            "1a88c58639bb4699b8309db259c3335f",
            "70e6aae3fe774f508c46951b9bc95ef2",
            "9b9f844fd637445bb463d1de1e33bd81",
            "8d23a1f967b3473aa80d851337b3a26f",
            "fd4d8a680c0f454dbca479b6f8c13f7f",
            "5ca3d3b8fab34326a42012ee2840881a",
            "4f447408259d4dfea8f442a6e754643b",
            "10506846bb3f4b59b4c9a615bbfdd5c3",
            "58a33a7caf354bd4b1d22c9696a736de",
            "4ebd1519c6814a9b9e3845c59d4ed6fb",
            "6af2650b89cf42d497ff72dd5cd84578"
          ]
        },
        "id": "uwgN15LV-890",
        "outputId": "5869f51c-38d6-4e69-e134-02c39b5aab07"
      },
      "execution_count": 5,
      "outputs": [
        {
          "output_type": "stream",
          "name": "stdout",
          "text": [
            "==((====))==  Unsloth 2024.12.4: Fast Gemma2 patching. Transformers:4.46.3.\n",
            "   \\\\   /|    GPU: Tesla T4. Max memory: 14.748 GB. Platform: Linux.\n",
            "O^O/ \\_/ \\    Torch: 2.5.1+cu121. CUDA: 7.5. CUDA Toolkit: 12.1. Triton: 3.1.0\n",
            "\\        /    Bfloat16 = FALSE. FA [Xformers = 0.0.28.post3. FA2 = False]\n",
            " \"-____-\"     Free Apache license: http://github.com/unslothai/unsloth\n",
            "Unsloth: Fast downloading is enabled - ignore downloading bars which are red colored!\n"
          ]
        },
        {
          "output_type": "display_data",
          "data": {
            "text/plain": [
              "generation_config.json:   0%|          | 0.00/190 [00:00<?, ?B/s]"
            ],
            "application/vnd.jupyter.widget-view+json": {
              "version_major": 2,
              "version_minor": 0,
              "model_id": "b799003a20c54d2289de25a9e70f95b4"
            }
          },
          "metadata": {}
        },
        {
          "output_type": "display_data",
          "data": {
            "text/plain": [
              "tokenizer_config.json:   0%|          | 0.00/46.4k [00:00<?, ?B/s]"
            ],
            "application/vnd.jupyter.widget-view+json": {
              "version_major": 2,
              "version_minor": 0,
              "model_id": "e74cb93b6eda49e7bbbf638a62725cfc"
            }
          },
          "metadata": {}
        },
        {
          "output_type": "display_data",
          "data": {
            "text/plain": [
              "tokenizer.model:   0%|          | 0.00/4.24M [00:00<?, ?B/s]"
            ],
            "application/vnd.jupyter.widget-view+json": {
              "version_major": 2,
              "version_minor": 0,
              "model_id": "36646ec698db4ddf8d93852daaa796b5"
            }
          },
          "metadata": {}
        },
        {
          "output_type": "display_data",
          "data": {
            "text/plain": [
              "special_tokens_map.json:   0%|          | 0.00/636 [00:00<?, ?B/s]"
            ],
            "application/vnd.jupyter.widget-view+json": {
              "version_major": 2,
              "version_minor": 0,
              "model_id": "423e0a3bc0744c2abf2890b5726aab68"
            }
          },
          "metadata": {}
        },
        {
          "output_type": "display_data",
          "data": {
            "text/plain": [
              "tokenizer.json:   0%|          | 0.00/17.5M [00:00<?, ?B/s]"
            ],
            "application/vnd.jupyter.widget-view+json": {
              "version_major": 2,
              "version_minor": 0,
              "model_id": "1a88c58639bb4699b8309db259c3335f"
            }
          },
          "metadata": {}
        }
      ]
    },
    {
      "cell_type": "markdown",
      "source": [
        "**Adding in LoRA adapters for parameter efficient fine tuning**\n",
        "\n",
        "LoRA, or Low-Rank Adaptation, is a technique used in machine learning to fine-tune large models more efficiently. It works by adding a small, additional set of parameters to the existing model instead of retraining all the parameters from scratch. This makes the fine-tuning process faster and less resource-intensive. Essentially, LoRA helps tailor a pre-trained model to specific tasks or datasets without requiring extensive computational power or memory."
      ],
      "metadata": {
        "id": "SIMbsq12AJwZ"
      }
    },
    {
      "cell_type": "code",
      "source": [
        "# Apply LoRA (Low-Rank Adaptation) adapters to the model for parameter-efficient fine-tuning\n",
        "model = FastLanguageModel.get_peft_model(\n",
        "    model,\n",
        "    # Rank of the adaptation matrix. Higher values can capture more complex patterns. Suggested values: 8, 16, 32, 64, 128\n",
        "    r = 16,\n",
        "    # Specify the model layers to which LoRA adapters should be applied\n",
        "    target_modules = [\"q_proj\", \"k_proj\", \"v_proj\", \"o_proj\",\n",
        "                      \"gate_proj\", \"up_proj\", \"down_proj\"],\n",
        "    # Scaling factor for LoRA. Controls the weight of the adaptation. Typically a small positive integer\n",
        "    lora_alpha = 16,\n",
        "    # Dropout rate for LoRA. A value of 0 means no dropout, which is optimized for performance\n",
        "    lora_dropout = 0,\n",
        "    # Bias handling in LoRA. Setting to \"none\" is optimized for performance, but other options can be used\n",
        "    bias = \"none\",\n",
        "    # Enables gradient checkpointing to save memory during training. \"unsloth\" is optimized for very long contexts\n",
        "    use_gradient_checkpointing = \"unsloth\",\n",
        "    # Seed for random number generation to ensure reproducibility of results\n",
        "    random_state = 3407,\n",
        ")"
      ],
      "metadata": {
        "colab": {
          "base_uri": "https://localhost:8080/"
        },
        "id": "VMnHpsHwAJhB",
        "outputId": "d245d8d4-ba3a-4584-bb55-099b8df4f1ac"
      },
      "execution_count": 6,
      "outputs": [
        {
          "output_type": "stream",
          "name": "stderr",
          "text": [
            "Unsloth 2024.12.4 patched 26 layers with 26 QKV layers, 26 O layers and 26 MLP layers.\n"
          ]
        }
      ]
    },
    {
      "cell_type": "markdown",
      "source": [
        "\n",
        "1. **r**: The rank of the low-rank adaptation matrix. This determines the capacity of the adapter to capture additional information. Higher ranks allow capturing more complex patterns but also increase computational overhead.\n",
        "\n",
        "2. **target_modules**: List of module names within the model to which the LoRA adapters should be applied. These modules typically include the projections within transformer layers (e.g., query, key, value projections) and other key transformation points.\n",
        "  - **q_proj**: Projects input features to query vectors for attention mechanisms.\n",
        "  - **k_proj**: Projects input features to key vectors for attention mechanisms.\n",
        "  - **v_proj**: Projects input features to value vectors for attention mechanisms.\n",
        "  - **o_proj**: Projects the output of the attention mechanism to the next layer.\n",
        "  - **gate_proj**: Applies gating mechanisms to modulate the flow of information.\n",
        "  - **up_proj**: Projects features to a higher dimensional space, often used in feed-forward networks.\n",
        "  - **down_proj**: Projects features to a lower dimensional space, often used in feed-forward networks.\n",
        "\n",
        "These layers are typically involved in transformer-based models, facilitating various projections and transformations necessary for the attention mechanism and feed-forward processes.\n",
        "\n",
        "3. **lora_alpha**: A scaling factor for the LoRA adapter. It controls the impact of the adapter on the model's outputs. Typically set to a small positive integer.\n",
        "\n",
        "4. **lora_dropout**: Dropout rate applied to the LoRA adapters. Dropout helps in regularizing the model, but setting it to 0 means no dropout, which is often optimal for performance.\n",
        "\n",
        "5. **bias**: This specifies how biases should be handled in the LoRA adapters. Setting it to \"none\" indicates no bias is used, which is optimized for performance, although other options are available depending on the use case.\n",
        "\n",
        "6. **use_gradient_checkpointing**: Enables gradient checkpointing, which helps to save memory during training by not storing all intermediate activations. \"unsloth\" is a setting optimized for very long contexts, but it can also be set to True.\n",
        "\n",
        "7. **random_state**: A seed for the random number generator to ensure reproducibility. This makes sure that the results are consistent across different runs of the code."
      ],
      "metadata": {
        "id": "zg9Ql124DGzs"
      }
    },
    {
      "cell_type": "markdown",
      "source": [
        "### **Preparing the Fine Tuning Dataset**\n",
        "\n",
        "We will be using a HF dataset of Financial Q&A over form 10ks, provided by user [Virat Singh](https://github.com/virattt) here https://huggingface.co/datasets/virattt/llama-3-8b-financialQA\n",
        "\n",
        "The following code below formats the entries into the prompt defined first for training, being careful to add in special tokens. In this case our End of Sentence token is <|eot_id|>. More LLaMa 3 special tokens [here](https://llama.meta.com/docs/model-cards-and-prompt-formats/meta-llama-3/)"
      ],
      "metadata": {
        "id": "pkGxCSzTAn6W"
      }
    },
    {
      "cell_type": "code",
      "source": [
        "# Defining the expected prompt\n",
        "ft_prompt = \"\"\"<|begin_of_text|><|start_header_id|>system<|end_header_id|>\n",
        "Below is a user question, paired with retrieved context. Write a response that appropriately answers the question,\n",
        "include specific details in your response. <|eot_id|>\n",
        "\n",
        "<|start_header_id|>user<|end_header_id|>\n",
        "\n",
        "### Question:\n",
        "{}\n",
        "\n",
        "### Context:\n",
        "{}\n",
        "\n",
        "<|eot_id|>\n",
        "\n",
        "### Response: <|start_header_id|>assistant<|end_header_id|>\n",
        "{}\"\"\"\n",
        "\n",
        "# Grabbing end of sentence special token\n",
        "EOS_TOKEN = tokenizer.eos_token # Must add EOS_TOKEN\n",
        "\n",
        "# Function for formatting above prompt with information from Financial QA dataset\n",
        "def formatting_prompts_func(examples):\n",
        "    questions = examples[\"question\"]\n",
        "    contexts       = examples[\"context\"]\n",
        "    responses      = examples[\"answer\"]\n",
        "    texts = []\n",
        "    for question, context, response in zip(questions, contexts, responses):\n",
        "        # Must add EOS_TOKEN, otherwise your generation will go on forever!\n",
        "        text = ft_prompt.format(question, context, response) + EOS_TOKEN\n",
        "        texts.append(text)\n",
        "    return { \"text\" : texts, }\n",
        "pass\n",
        "\n",
        "dataset = load_dataset(\"virattt/llama-3-8b-financialQA\", split = \"train\")\n",
        "dataset = dataset.map(formatting_prompts_func, batched = True,)"
      ],
      "metadata": {
        "id": "La0rRPPpAps1",
        "colab": {
          "base_uri": "https://localhost:8080/",
          "height": 49,
          "referenced_widgets": [
            "d7e045ae4c3a474cbb3926de33c84dc5",
            "e5ee6b5d27334751b222966c250bd475",
            "f08c64e628694e729e4300dfa362ce4d",
            "0d257604826e458d8ff1d05d0af14c41",
            "47d528e76088451aacb297bd06d18278",
            "312bec641bfe470fae647e39b90c3b9a",
            "dfdefacbd1b244c2a27f8540df3d3b8e",
            "ab5650bbe91f4c8f884e4a610c7303fe",
            "a4f4cbc532ea46ef9ba2a3d7f09d8b81",
            "64fefa62b93841d1bfa4e946df459932",
            "456cad7f450c4712b0993c3d9c0aa6b8"
          ]
        },
        "outputId": "1e5044b4-0287-45d4-ffb1-ac247ebac272"
      },
      "execution_count": 7,
      "outputs": [
        {
          "output_type": "display_data",
          "data": {
            "text/plain": [
              "Map:   0%|          | 0/7000 [00:00<?, ? examples/s]"
            ],
            "application/vnd.jupyter.widget-view+json": {
              "version_major": 2,
              "version_minor": 0,
              "model_id": "d7e045ae4c3a474cbb3926de33c84dc5"
            }
          },
          "metadata": {}
        }
      ]
    },
    {
      "cell_type": "code",
      "source": [
        "dataset[0]"
      ],
      "metadata": {
        "colab": {
          "base_uri": "https://localhost:8080/"
        },
        "id": "QuCQOw4SuA2W",
        "outputId": "79e40b1f-2f6d-42b7-d7aa-1f4d4d374d82"
      },
      "execution_count": null,
      "outputs": [
        {
          "output_type": "execute_result",
          "data": {
            "text/plain": [
              "{'question': 'What area did NVIDIA initially focus on before expanding to other computationally intensive fields?',\n",
              " 'answer': 'NVIDIA initially focused on PC graphics.',\n",
              " 'context': 'Since our original focus on PC graphics, we have expanded to several other large and important computationally intensive fields.',\n",
              " 'ticker': 'NVDA',\n",
              " 'filing': '2023_10K',\n",
              " 'text': '<|begin_of_text|><|start_header_id|>system<|end_header_id|>\\nBelow is a user question, paired with retrieved context. Write a response that appropriately answers the question,\\ninclude specific details in your response. <|eot_id|>\\n\\n<|start_header_id|>user<|end_header_id|>\\n\\n### Question:\\nWhat area did NVIDIA initially focus on before expanding to other computationally intensive fields?\\n\\n### Context:\\nSince our original focus on PC graphics, we have expanded to several other large and important computationally intensive fields.\\n\\n<|eot_id|>\\n\\n### Response: <|start_header_id|>assistant<|end_header_id|>\\nNVIDIA initially focused on PC graphics.<|eot_id|>'}"
            ]
          },
          "metadata": {},
          "execution_count": 10
        }
      ]
    },
    {
      "cell_type": "code",
      "source": [
        "split_dataset = dataset.train_test_split(test_size=100, seed=42)\n",
        "dataset = split_dataset['train']\n",
        "test_dataset = split_dataset['test']\n",
        "\n",
        "print(f\"Length of train dataset: {len(dataset)}\")\n",
        "print(f\"Length of test dataset: {len(test_dataset)}\")"
      ],
      "metadata": {
        "colab": {
          "base_uri": "https://localhost:8080/"
        },
        "id": "UZx1Eueg9De1",
        "outputId": "ee08bbb6-ca4c-4e66-b3bc-30016e97e8ab"
      },
      "execution_count": 8,
      "outputs": [
        {
          "output_type": "stream",
          "name": "stdout",
          "text": [
            "Length of train dataset: 6900\n",
            "Length of test dataset: 100\n"
          ]
        }
      ]
    },
    {
      "cell_type": "markdown",
      "source": [
        "### **Defining the Trainer Arguments**\n",
        "\n",
        "We will be setting up and using HuggingFace Transformer Reinforcement Learning (TRL)'s [Supervised Fine-Tuning Trainer](https://huggingface.co/docs/trl/sft_trainer)\n",
        "\n",
        "**Supervised fine-tuning** is a process in machine learning where a pre-trained model is further trained on a specific dataset with labeled examples. During this process, the model learns to make predictions or classifications based on the labeled data, improving its performance on the specific task at hand. This technique leverages the general knowledge the model has already acquired during its initial training phase and adapts it to perform well on a more targeted set of examples. Supervised fine-tuning is commonly used to customize models for specific applications, such as sentiment analysis, object recognition, or language translation, by using task-specific annotated data."
      ],
      "metadata": {
        "id": "GUKc5L7qAz9s"
      }
    },
    {
      "cell_type": "code",
      "source": [
        "trainer = SFTTrainer(\n",
        "    # The model to be fine-tuned\n",
        "    model = model,\n",
        "    # The tokenizer associated with the model\n",
        "    tokenizer = tokenizer,\n",
        "    # The dataset used for training\n",
        "    train_dataset = dataset,\n",
        "    # The field in the dataset containing the text data\n",
        "    dataset_text_field = \"text\",\n",
        "    # Maximum sequence length for the training data\n",
        "    max_seq_length = 2048,\n",
        "    # Number of processes to use for data loading\n",
        "    dataset_num_proc = 2,\n",
        "    # Whether to use sequence packing, which can speed up training for short sequences\n",
        "    packing = False,\n",
        "    args = TrainingArguments(\n",
        "        # Batch size per device during training\n",
        "        per_device_train_batch_size = 2,\n",
        "        # Number of gradient accumulation steps to perform before updating the model parameters\n",
        "        gradient_accumulation_steps = 4,\n",
        "        # Number of warmup steps for learning rate scheduler\n",
        "        warmup_steps = 5,\n",
        "        # Total number of training steps\n",
        "        max_steps = 30,\n",
        "        # Number of training epochs, can use this instead of max_steps, for this notebook its ~900 steps given the dataset\n",
        "        # num_train_epochs = 1,\n",
        "        # Learning rate for the optimizer\n",
        "        learning_rate = 2e-4,\n",
        "        # Use 16-bit floating point precision for training if bfloat16 is not supported\n",
        "        fp16 = not is_bfloat16_supported(),\n",
        "        # Use bfloat16 precision for training if supported\n",
        "        bf16 = is_bfloat16_supported(),\n",
        "        # Number of steps between logging events\n",
        "        logging_steps = 1,\n",
        "        # Optimizer to use (in this case, AdamW with 8-bit precision)\n",
        "        optim = \"adamw_8bit\",\n",
        "        # Weight decay to apply to the model parameters\n",
        "        weight_decay = 0.01,\n",
        "        # Type of learning rate scheduler to use\n",
        "        lr_scheduler_type = \"linear\",\n",
        "        # Seed for random number generation to ensure reproducibility\n",
        "        seed = 3407,\n",
        "        # Directory to save the output models and logs\n",
        "        output_dir = \"outputs\",\n",
        "    ),\n",
        ")\n"
      ],
      "metadata": {
        "colab": {
          "base_uri": "https://localhost:8080/",
          "height": 66,
          "referenced_widgets": [
            "daf56ff014d544ab802f1806444b6597",
            "4a6e5700dc3846cc992838516fa95339",
            "9c33d3ad52774275ba8a9fa47e5524bb",
            "f818b883c69e4fe38c6c67f5cfbc6fea",
            "e76cd7537c0b4eee99a0dd1898756b1b",
            "51fab09c9cfa4e90939a09a648bf9e37",
            "31207253c9ff49828d6fbfce026647be",
            "5c67f5acb564491a86edf8597c51fbff",
            "ad7fb78571e84bc6872b992c7499996f",
            "8d21461896654b369ef7cccc143807fe",
            "df8c7a24deae4e6288b614866405a130"
          ]
        },
        "id": "7gNp-CqHBFzl",
        "outputId": "c8aeb1fe-ade3-4d7c-d725-542f01827b61"
      },
      "execution_count": 9,
      "outputs": [
        {
          "output_type": "display_data",
          "data": {
            "text/plain": [
              "Map (num_proc=2):   0%|          | 0/6900 [00:00<?, ? examples/s]"
            ],
            "application/vnd.jupyter.widget-view+json": {
              "version_major": 2,
              "version_minor": 0,
              "model_id": "daf56ff014d544ab802f1806444b6597"
            }
          },
          "metadata": {}
        },
        {
          "output_type": "stream",
          "name": "stderr",
          "text": [
            "max_steps is given, it will override any value given in num_train_epochs\n"
          ]
        }
      ]
    },
    {
      "cell_type": "markdown",
      "source": [
        "1. **model**: The model to be fine-tuned. This is the pre-trained model that will be adapted to the specific training data.\n",
        "\n",
        "2. **tokenizer**: The tokenizer associated with the model. It converts text data into tokens that the model can process.\n",
        "\n",
        "3. **train_dataset**: The dataset used for training. This is the collection of labeled examples that the model will learn from during the fine-tuning process.\n",
        "\n",
        "4. **dataset_text_field**: The field in the dataset containing the text data. This specifies which part of the dataset contains the text that the model will be trained on.\n",
        "\n",
        "5. **max_seq_length**: The maximum sequence length for the training data. This limits the number of tokens per input sequence to ensure they fit within the model's processing capacity.\n",
        "\n",
        "6. **dataset_num_proc**: The number of processes to use for data loading. This can speed up data loading by parallelizing it across multiple processes.\n",
        "\n",
        "7. **packing**: A boolean indicating whether to use sequence packing. Sequence packing can speed up training by combining multiple short sequences into a single batch.\n",
        "\n",
        "8. **args**: A set of training arguments that configure the training process. These include various hyperparameters and settings:\n",
        "\n",
        "    - **per_device_train_batch_size**: The batch size per device during training. This determines how many examples are processed together in one forward/backward pass.\n",
        "    \n",
        "    - **gradient_accumulation_steps**: The number of gradient accumulation steps to perform before updating the model parameters. This allows for effectively larger batch sizes without requiring more memory.\n",
        "    \n",
        "    - **warmup_steps**: The number of warmup steps for the learning rate scheduler. During these steps, the learning rate increases gradually to the initial value.\n",
        "    \n",
        "    - **max_steps**: The total number of training steps. This defines how many batches of training data the model will be trained on.\n",
        "    \n",
        "    - **num_train_epochs**: The number of training epochs (uncommented in the example). This defines how many times the entire training dataset will be passed through the model.\n",
        "    \n",
        "    - **learning_rate**: The learning rate for the optimizer. This controls how much to adjust the model's weights with respect to the gradient during training.\n",
        "    \n",
        "    - **fp16**: A boolean indicating whether to use 16-bit floating point precision for training if bfloat16 is not supported. This can speed up training and reduce memory usage.\n",
        "    \n",
        "    - **bf16**: A boolean indicating whether to use bfloat16 precision for training if supported. This can also speed up training and reduce memory usage while maintaining higher precision than fp16.\n",
        "    \n",
        "    - **logging_steps**: The number of steps between logging events. This controls how frequently training progress and metrics are logged.\n",
        "    \n",
        "    - **optim**: The optimizer to use. In this case, AdamW with 8-bit precision, which can improve efficiency for large models.\n",
        "    \n",
        "    - **weight_decay**: The weight decay to apply to the model parameters. This is a regularization technique to prevent overfitting by penalizing large weights.\n",
        "    \n",
        "    - **lr_scheduler_type**: The type of learning rate scheduler to use. This controls how the learning rate changes over time during training.\n",
        "    \n",
        "    - **seed**: The seed for random number generation. This ensures reproducibility of results by controlling the randomness in training.\n",
        "    \n",
        "    - **output_dir**: The directory to save the output models and logs. This specifies where the trained model and training logs will be stored."
      ],
      "metadata": {
        "id": "vNH_FCS_cc9L"
      }
    },
    {
      "cell_type": "markdown",
      "source": [
        "# **Now We're Ready to Train!** 🎉"
      ],
      "metadata": {
        "id": "E4X7NoIxBd8q"
      }
    },
    {
      "cell_type": "code",
      "source": [
        "trainer_stats = trainer.train()"
      ],
      "metadata": {
        "colab": {
          "base_uri": "https://localhost:8080/",
          "height": 1000
        },
        "id": "7j6iBlFeBfI9",
        "outputId": "ff0edc9c-1188-424c-c669-1b8fc5320220"
      },
      "execution_count": 10,
      "outputs": [
        {
          "output_type": "stream",
          "name": "stderr",
          "text": [
            "==((====))==  Unsloth - 2x faster free finetuning | Num GPUs = 1\n",
            "   \\\\   /|    Num examples = 6,900 | Num Epochs = 1\n",
            "O^O/ \\_/ \\    Batch size per device = 2 | Gradient Accumulation steps = 4\n",
            "\\        /    Total batch size = 8 | Total steps = 30\n",
            " \"-____-\"     Number of trainable parameters = 20,766,720\n",
            "\u001b[34m\u001b[1mwandb\u001b[0m: \u001b[33mWARNING\u001b[0m The `run_name` is currently set to the same value as `TrainingArguments.output_dir`. If this was not intended, please specify a different run name by setting the `TrainingArguments.run_name` parameter.\n",
            "\u001b[34m\u001b[1mwandb\u001b[0m: Using wandb-core as the SDK backend.  Please refer to https://wandb.me/wandb-core for more information.\n",
            "\u001b[34m\u001b[1mwandb\u001b[0m: Currently logged in as: \u001b[33mtramesh\u001b[0m (\u001b[33mtramesh-uc-san-diego\u001b[0m). Use \u001b[1m`wandb login --relogin`\u001b[0m to force relogin\n"
          ]
        },
        {
          "output_type": "display_data",
          "data": {
            "text/plain": [
              "<IPython.core.display.HTML object>"
            ],
            "text/html": [
              "Tracking run with wandb version 0.18.7"
            ]
          },
          "metadata": {}
        },
        {
          "output_type": "display_data",
          "data": {
            "text/plain": [
              "<IPython.core.display.HTML object>"
            ],
            "text/html": [
              "Run data is saved locally in <code>/content/wandb/run-20241208_125913-jeq9ul5b</code>"
            ]
          },
          "metadata": {}
        },
        {
          "output_type": "display_data",
          "data": {
            "text/plain": [
              "<IPython.core.display.HTML object>"
            ],
            "text/html": [
              "Syncing run <strong><a href='https://wandb.ai/tramesh-uc-san-diego/huggingface/runs/jeq9ul5b' target=\"_blank\">outputs</a></strong> to <a href='https://wandb.ai/tramesh-uc-san-diego/huggingface' target=\"_blank\">Weights & Biases</a> (<a href='https://wandb.me/developer-guide' target=\"_blank\">docs</a>)<br/>"
            ]
          },
          "metadata": {}
        },
        {
          "output_type": "display_data",
          "data": {
            "text/plain": [
              "<IPython.core.display.HTML object>"
            ],
            "text/html": [
              " View project at <a href='https://wandb.ai/tramesh-uc-san-diego/huggingface' target=\"_blank\">https://wandb.ai/tramesh-uc-san-diego/huggingface</a>"
            ]
          },
          "metadata": {}
        },
        {
          "output_type": "display_data",
          "data": {
            "text/plain": [
              "<IPython.core.display.HTML object>"
            ],
            "text/html": [
              " View run at <a href='https://wandb.ai/tramesh-uc-san-diego/huggingface/runs/jeq9ul5b' target=\"_blank\">https://wandb.ai/tramesh-uc-san-diego/huggingface/runs/jeq9ul5b</a>"
            ]
          },
          "metadata": {}
        },
        {
          "output_type": "display_data",
          "data": {
            "text/plain": [
              "<IPython.core.display.HTML object>"
            ],
            "text/html": [
              "\n",
              "    <div>\n",
              "      \n",
              "      <progress value='30' max='30' style='width:300px; height:20px; vertical-align: middle;'></progress>\n",
              "      [30/30 01:31, Epoch 0/1]\n",
              "    </div>\n",
              "    <table border=\"1\" class=\"dataframe\">\n",
              "  <thead>\n",
              " <tr style=\"text-align: left;\">\n",
              "      <th>Step</th>\n",
              "      <th>Training Loss</th>\n",
              "    </tr>\n",
              "  </thead>\n",
              "  <tbody>\n",
              "    <tr>\n",
              "      <td>1</td>\n",
              "      <td>2.151800</td>\n",
              "    </tr>\n",
              "    <tr>\n",
              "      <td>2</td>\n",
              "      <td>2.093100</td>\n",
              "    </tr>\n",
              "    <tr>\n",
              "      <td>3</td>\n",
              "      <td>2.173200</td>\n",
              "    </tr>\n",
              "    <tr>\n",
              "      <td>4</td>\n",
              "      <td>1.908100</td>\n",
              "    </tr>\n",
              "    <tr>\n",
              "      <td>5</td>\n",
              "      <td>1.663000</td>\n",
              "    </tr>\n",
              "    <tr>\n",
              "      <td>6</td>\n",
              "      <td>1.483900</td>\n",
              "    </tr>\n",
              "    <tr>\n",
              "      <td>7</td>\n",
              "      <td>1.102800</td>\n",
              "    </tr>\n",
              "    <tr>\n",
              "      <td>8</td>\n",
              "      <td>1.132000</td>\n",
              "    </tr>\n",
              "    <tr>\n",
              "      <td>9</td>\n",
              "      <td>0.870900</td>\n",
              "    </tr>\n",
              "    <tr>\n",
              "      <td>10</td>\n",
              "      <td>0.805900</td>\n",
              "    </tr>\n",
              "    <tr>\n",
              "      <td>11</td>\n",
              "      <td>0.779500</td>\n",
              "    </tr>\n",
              "    <tr>\n",
              "      <td>12</td>\n",
              "      <td>0.670400</td>\n",
              "    </tr>\n",
              "    <tr>\n",
              "      <td>13</td>\n",
              "      <td>0.770000</td>\n",
              "    </tr>\n",
              "    <tr>\n",
              "      <td>14</td>\n",
              "      <td>0.902000</td>\n",
              "    </tr>\n",
              "    <tr>\n",
              "      <td>15</td>\n",
              "      <td>0.597500</td>\n",
              "    </tr>\n",
              "    <tr>\n",
              "      <td>16</td>\n",
              "      <td>0.476600</td>\n",
              "    </tr>\n",
              "    <tr>\n",
              "      <td>17</td>\n",
              "      <td>0.706000</td>\n",
              "    </tr>\n",
              "    <tr>\n",
              "      <td>18</td>\n",
              "      <td>0.659500</td>\n",
              "    </tr>\n",
              "    <tr>\n",
              "      <td>19</td>\n",
              "      <td>0.516600</td>\n",
              "    </tr>\n",
              "    <tr>\n",
              "      <td>20</td>\n",
              "      <td>0.668500</td>\n",
              "    </tr>\n",
              "    <tr>\n",
              "      <td>21</td>\n",
              "      <td>0.644500</td>\n",
              "    </tr>\n",
              "    <tr>\n",
              "      <td>22</td>\n",
              "      <td>0.924900</td>\n",
              "    </tr>\n",
              "    <tr>\n",
              "      <td>23</td>\n",
              "      <td>1.120000</td>\n",
              "    </tr>\n",
              "    <tr>\n",
              "      <td>24</td>\n",
              "      <td>0.680100</td>\n",
              "    </tr>\n",
              "    <tr>\n",
              "      <td>25</td>\n",
              "      <td>0.742600</td>\n",
              "    </tr>\n",
              "    <tr>\n",
              "      <td>26</td>\n",
              "      <td>0.481300</td>\n",
              "    </tr>\n",
              "    <tr>\n",
              "      <td>27</td>\n",
              "      <td>0.569800</td>\n",
              "    </tr>\n",
              "    <tr>\n",
              "      <td>28</td>\n",
              "      <td>0.881300</td>\n",
              "    </tr>\n",
              "    <tr>\n",
              "      <td>29</td>\n",
              "      <td>0.579700</td>\n",
              "    </tr>\n",
              "    <tr>\n",
              "      <td>30</td>\n",
              "      <td>0.530700</td>\n",
              "    </tr>\n",
              "  </tbody>\n",
              "</table><p>"
            ]
          },
          "metadata": {}
        }
      ]
    },
    {
      "cell_type": "markdown",
      "source": [
        "---\n",
        "### **Saving Your Fine-Tuned Model Locally**\n",
        "\n",
        "First click on files, then mount drive to connect google drive! Create a folder and replace with path below"
      ],
      "metadata": {
        "id": "kN89ZxzGKhWz"
      }
    },
    {
      "cell_type": "code",
      "source": [
        "model.save_pretrained(\"/content/drive/MyDrive/DSC253/mistral/mistral_step30\") # Local saving\n",
        "tokenizer.save_pretrained(\"/content/drive/MyDrive/DSC253/mistral/mistral_step30\")"
      ],
      "metadata": {
        "colab": {
          "base_uri": "https://localhost:8080/"
        },
        "id": "lK1IdCNWJP2q",
        "outputId": "ebe2bd6a-742a-4a71-f5ea-22ffb1bd8e4d"
      },
      "execution_count": 11,
      "outputs": [
        {
          "output_type": "execute_result",
          "data": {
            "text/plain": [
              "('/content/drive/MyDrive/DSC253/gemma/gemma_step30/tokenizer_config.json',\n",
              " '/content/drive/MyDrive/DSC253/gemma/gemma_step30/special_tokens_map.json',\n",
              " '/content/drive/MyDrive/DSC253/gemma/gemma_step30/tokenizer.model',\n",
              " '/content/drive/MyDrive/DSC253/gemma/gemma_step30/added_tokens.json',\n",
              " '/content/drive/MyDrive/DSC253/gemma/gemma_step30/tokenizer.json')"
            ]
          },
          "metadata": {},
          "execution_count": 11
        }
      ]
    },
    {
      "cell_type": "markdown",
      "source": [
        "### **Function for Loading Your New Model Later**\n",
        "\n",
        "So you don't have to retrain every time, just turn False to True and run this. One note, Colab deletes all files, so mount your google drive and save to a folder there to keep it persistent!\n",
        "\n",
        "You'll still need to download and run the python packages from the top of the notebook, and also re define the prompt for the inference functions down below"
      ],
      "metadata": {
        "id": "8SRzMazvepWF"
      }
    },
    {
      "cell_type": "code",
      "source": [
        "# Redefining prompt if importing without training\n",
        "ft_prompt = \"\"\"<|begin_of_text|><|start_header_id|>system<|end_header_id|>\n",
        "Below is a user question, paired with retrieved context. Write a response that appropriately answers the question,\n",
        "include specific details in your response. <|eot_id|>\n",
        "\n",
        "<|start_header_id|>user<|end_header_id|>\n",
        "\n",
        "### Question:\n",
        "{}\n",
        "\n",
        "### Context:\n",
        "{}\n",
        "\n",
        "<|eot_id|>\n",
        "\n",
        "### Response: <|start_header_id|>assistant<|end_header_id|>\n",
        "{}\"\"\"\n",
        "\n",
        "if False: # switch to true to load model back up\n",
        "    model, tokenizer = FastLanguageModel.from_pretrained(\n",
        "        model_name = \"/content/drive/MyDrive/l3_finagent/l3_finagent_step60\", # Path into where you saved your model\n",
        "        max_seq_length = 2048, # Existing arguments from when we loaded earlier\n",
        "        dtype = None,\n",
        "        load_in_4bit = True,\n",
        "    )\n",
        "    FastLanguageModel.for_inference(model)"
      ],
      "metadata": {
        "id": "xWaSpG_ueoG8"
      },
      "execution_count": 12,
      "outputs": []
    },
    {
      "cell_type": "markdown",
      "source": [
        "### **Setting Up Functions for Running Inference**\n",
        "\n",
        "**Inference** refers to the process of using a trained machine learning model to make predictions or generate outputs based on new, unseen input data. It involves feeding the input data into the model and obtaining the model's predictions, classifications, or generated text, depending on the task the model is designed for. Inference is the application phase of the model, as opposed to the training phase."
      ],
      "metadata": {
        "id": "fhsm4M_ReybK"
      }
    },
    {
      "cell_type": "code",
      "source": [
        "# Main Inference Function, handles generating and decoding tokens\n",
        "def inference(question, context):\n",
        "  inputs = tokenizer(\n",
        "  [\n",
        "      ft_prompt.format(\n",
        "          question,\n",
        "          context,\n",
        "          \"\", # output - leave this blank for generation!\n",
        "      )\n",
        "  ], return_tensors = \"pt\").to(\"cuda\")\n",
        "\n",
        "  # Generate tokens for the input prompt using the model, with a maximum of 64 new tokens.\n",
        "  # The `use_cache` parameter enables faster generation by reusing previously computed values.\n",
        "  # The `pad_token_id` is set to the EOS token to handle padding properly.\n",
        "  outputs = model.generate(**inputs, max_new_tokens = 64, use_cache = True, pad_token_id=tokenizer.eos_token_id)\n",
        "  response = tokenizer.batch_decode(outputs) # Decoding tokens into english words\n",
        "  return response"
      ],
      "metadata": {
        "id": "ctdKSEkDK08T"
      },
      "execution_count": 13,
      "outputs": []
    },
    {
      "cell_type": "code",
      "source": [
        "# Function for extracting just the language model generation from the full response\n",
        "def extract_response(text):\n",
        "    text = text[0]\n",
        "    start_token = \"### Response: <|start_header_id|>assistant<|end_header_id|>\"\n",
        "    end_token = \"<|eot_id|>\"\n",
        "\n",
        "    start_index = text.find(start_token) + len(start_token)\n",
        "    end_index = text.find(end_token, start_index)\n",
        "\n",
        "    if start_index == -1 or end_index == -1:\n",
        "        return None\n",
        "\n",
        "    return text[start_index:end_index].strip()"
      ],
      "metadata": {
        "id": "VdmV2OAJLEdl"
      },
      "execution_count": 14,
      "outputs": []
    },
    {
      "cell_type": "code",
      "source": [
        "FastLanguageModel.for_inference(model)"
      ],
      "metadata": {
        "colab": {
          "base_uri": "https://localhost:8080/"
        },
        "id": "S2uzxo6S_jh8",
        "outputId": "08916fbe-b811-4317-9680-30e02fde3946"
      },
      "execution_count": 15,
      "outputs": [
        {
          "output_type": "execute_result",
          "data": {
            "text/plain": [
              "PeftModelForCausalLM(\n",
              "  (base_model): LoraModel(\n",
              "    (model): Gemma2ForCausalLM(\n",
              "      (model): Gemma2Model(\n",
              "        (embed_tokens): Embedding(256000, 2304, padding_idx=0)\n",
              "        (layers): ModuleList(\n",
              "          (0-25): 26 x Gemma2DecoderLayer(\n",
              "            (self_attn): Gemma2Attention(\n",
              "              (q_proj): lora.Linear4bit(\n",
              "                (base_layer): Linear4bit(in_features=2304, out_features=2048, bias=False)\n",
              "                (lora_dropout): ModuleDict(\n",
              "                  (default): Identity()\n",
              "                )\n",
              "                (lora_A): ModuleDict(\n",
              "                  (default): Linear(in_features=2304, out_features=16, bias=False)\n",
              "                )\n",
              "                (lora_B): ModuleDict(\n",
              "                  (default): Linear(in_features=16, out_features=2048, bias=False)\n",
              "                )\n",
              "                (lora_embedding_A): ParameterDict()\n",
              "                (lora_embedding_B): ParameterDict()\n",
              "                (lora_magnitude_vector): ModuleDict()\n",
              "              )\n",
              "              (k_proj): lora.Linear4bit(\n",
              "                (base_layer): Linear4bit(in_features=2304, out_features=1024, bias=False)\n",
              "                (lora_dropout): ModuleDict(\n",
              "                  (default): Identity()\n",
              "                )\n",
              "                (lora_A): ModuleDict(\n",
              "                  (default): Linear(in_features=2304, out_features=16, bias=False)\n",
              "                )\n",
              "                (lora_B): ModuleDict(\n",
              "                  (default): Linear(in_features=16, out_features=1024, bias=False)\n",
              "                )\n",
              "                (lora_embedding_A): ParameterDict()\n",
              "                (lora_embedding_B): ParameterDict()\n",
              "                (lora_magnitude_vector): ModuleDict()\n",
              "              )\n",
              "              (v_proj): lora.Linear4bit(\n",
              "                (base_layer): Linear4bit(in_features=2304, out_features=1024, bias=False)\n",
              "                (lora_dropout): ModuleDict(\n",
              "                  (default): Identity()\n",
              "                )\n",
              "                (lora_A): ModuleDict(\n",
              "                  (default): Linear(in_features=2304, out_features=16, bias=False)\n",
              "                )\n",
              "                (lora_B): ModuleDict(\n",
              "                  (default): Linear(in_features=16, out_features=1024, bias=False)\n",
              "                )\n",
              "                (lora_embedding_A): ParameterDict()\n",
              "                (lora_embedding_B): ParameterDict()\n",
              "                (lora_magnitude_vector): ModuleDict()\n",
              "              )\n",
              "              (o_proj): lora.Linear4bit(\n",
              "                (base_layer): Linear4bit(in_features=2048, out_features=2304, bias=False)\n",
              "                (lora_dropout): ModuleDict(\n",
              "                  (default): Identity()\n",
              "                )\n",
              "                (lora_A): ModuleDict(\n",
              "                  (default): Linear(in_features=2048, out_features=16, bias=False)\n",
              "                )\n",
              "                (lora_B): ModuleDict(\n",
              "                  (default): Linear(in_features=16, out_features=2304, bias=False)\n",
              "                )\n",
              "                (lora_embedding_A): ParameterDict()\n",
              "                (lora_embedding_B): ParameterDict()\n",
              "                (lora_magnitude_vector): ModuleDict()\n",
              "              )\n",
              "              (rotary_emb): GemmaFixedRotaryEmbedding()\n",
              "            )\n",
              "            (mlp): Gemma2MLP(\n",
              "              (gate_proj): lora.Linear4bit(\n",
              "                (base_layer): Linear4bit(in_features=2304, out_features=9216, bias=False)\n",
              "                (lora_dropout): ModuleDict(\n",
              "                  (default): Identity()\n",
              "                )\n",
              "                (lora_A): ModuleDict(\n",
              "                  (default): Linear(in_features=2304, out_features=16, bias=False)\n",
              "                )\n",
              "                (lora_B): ModuleDict(\n",
              "                  (default): Linear(in_features=16, out_features=9216, bias=False)\n",
              "                )\n",
              "                (lora_embedding_A): ParameterDict()\n",
              "                (lora_embedding_B): ParameterDict()\n",
              "                (lora_magnitude_vector): ModuleDict()\n",
              "              )\n",
              "              (up_proj): lora.Linear4bit(\n",
              "                (base_layer): Linear4bit(in_features=2304, out_features=9216, bias=False)\n",
              "                (lora_dropout): ModuleDict(\n",
              "                  (default): Identity()\n",
              "                )\n",
              "                (lora_A): ModuleDict(\n",
              "                  (default): Linear(in_features=2304, out_features=16, bias=False)\n",
              "                )\n",
              "                (lora_B): ModuleDict(\n",
              "                  (default): Linear(in_features=16, out_features=9216, bias=False)\n",
              "                )\n",
              "                (lora_embedding_A): ParameterDict()\n",
              "                (lora_embedding_B): ParameterDict()\n",
              "                (lora_magnitude_vector): ModuleDict()\n",
              "              )\n",
              "              (down_proj): lora.Linear4bit(\n",
              "                (base_layer): Linear4bit(in_features=9216, out_features=2304, bias=False)\n",
              "                (lora_dropout): ModuleDict(\n",
              "                  (default): Identity()\n",
              "                )\n",
              "                (lora_A): ModuleDict(\n",
              "                  (default): Linear(in_features=9216, out_features=16, bias=False)\n",
              "                )\n",
              "                (lora_B): ModuleDict(\n",
              "                  (default): Linear(in_features=16, out_features=2304, bias=False)\n",
              "                )\n",
              "                (lora_embedding_A): ParameterDict()\n",
              "                (lora_embedding_B): ParameterDict()\n",
              "                (lora_magnitude_vector): ModuleDict()\n",
              "              )\n",
              "              (act_fn): PytorchGELUTanh()\n",
              "            )\n",
              "            (input_layernorm): Gemma2RMSNorm((2304,), eps=1e-06)\n",
              "            (pre_feedforward_layernorm): Gemma2RMSNorm((2304,), eps=1e-06)\n",
              "            (post_feedforward_layernorm): Gemma2RMSNorm((2304,), eps=1e-06)\n",
              "            (post_attention_layernorm): Gemma2RMSNorm((2304,), eps=1e-06)\n",
              "          )\n",
              "        )\n",
              "        (norm): Gemma2RMSNorm((2304,), eps=1e-06)\n",
              "      )\n",
              "      (lm_head): Linear(in_features=2304, out_features=256000, bias=False)\n",
              "    )\n",
              "  )\n",
              ")"
            ]
          },
          "metadata": {},
          "execution_count": 15
        }
      ]
    },
    {
      "cell_type": "code",
      "source": [
        "# Testing it out!\n",
        "context = \"The increase in research and development expense for fiscal year 2023 was primarily driven by increased compensation, employee growth, engineering development costs, and data center infrastructure.\"\n",
        "question = \"What were the primary drivers of the notable increase in research and development expenses for fiscal year 2023?\"\n",
        "\n",
        "resp = inference(question, context)\n",
        "parsed_response = extract_response(resp)\n",
        "print(parsed_response)"
      ],
      "metadata": {
        "colab": {
          "base_uri": "https://localhost:8080/"
        },
        "id": "dBerj2X9LFK5",
        "outputId": "ab0dcebe-5332-40fc-9119-43656d5ea3b3"
      },
      "execution_count": 16,
      "outputs": [
        {
          "output_type": "stream",
          "name": "stdout",
          "text": [
            "None\n"
          ]
        }
      ]
    },
    {
      "cell_type": "code",
      "source": [
        "print(resp)"
      ],
      "metadata": {
        "colab": {
          "base_uri": "https://localhost:8080/"
        },
        "id": "zt61NDNcTR2y",
        "outputId": "e79c0417-dd10-43d4-971b-4d8e3cb5e398"
      },
      "execution_count": 17,
      "outputs": [
        {
          "output_type": "stream",
          "name": "stdout",
          "text": [
            "['<bos><|begin_of_text|><|start_header_id|>system<|end_header_id|>\\nBelow is a user question, paired with retrieved context. Write a response that appropriately answers the question,\\ninclude specific details in your response. <|eot_id|>\\n\\n<|start_header_id|>user<|end_header_id|>\\n\\n### Question:\\nWhat were the primary drivers of the notable increase in research and development expenses for fiscal year 2023?\\n\\n### Context:\\nThe increase in research and development expense for fiscal year 2023 was primarily driven by increased compensation, employee growth, engineering development costs, and data center infrastructure.\\n\\n<|eot_id|>\\n\\n### Response: <|start_header_id|>assistant<|end_header_id|>\\nThe primary drivers of the notable increase in research and development expenses for fiscal year 2023 were increased compensation, employee growth, engineering development costs, and data center infrastructure.<eos>']\n"
          ]
        }
      ]
    },
    {
      "cell_type": "markdown",
      "source": [
        "---\n",
        "# **Part 2: Setting Up SEC 10-K Data Pipeline & Retrieval Functionality**\n",
        "\n",
        "Now that we have our fine tuned language model, inference functions, and a desired prompt format, we need to now set up the RAG pipeline to inject the relevant context into each generation.\n",
        "\n",
        "The flow will follow as such:\n",
        "\n",
        "*User Question* -> *Context Retrieval from 10-K* -> *LLM Answers User Question Using Context*\n",
        "\n",
        "To do this we will need to be able to:\n",
        "1. Gather specific from 10-K's\n",
        "2. Parse and chunk the text in them\n",
        "3. Vectorize and embed the chunks into a vector Database\n",
        "4. Set up a retriever to semantically search the user's questions over the database to return relevant context\n",
        "\n",
        "A **Form 10-K** is an annual report required by the U.S. Securities and Exchange Commission, that gives a comprehensive summary of a company's financial performance."
      ],
      "metadata": {
        "id": "IJ8MpDq0NGvz"
      }
    },
    {
      "cell_type": "markdown",
      "source": [
        "### **Function For 10-K Retrieval**\n",
        "\n",
        "To do this easier, we're taking advantage of the SEC API https://sec-api.io/. It is free to sign up, and you get 100 API calls a day to use, each time we load a ticker's symbol it will use 3 calls.\n",
        "\n",
        "For this project, we'll be focused on loading only sections **1A** and **7**\n",
        "- **1A**: Risk Factors\n",
        "- **7**: Management's Discussion and Analysis of Financial Condition and Results of Operations"
      ],
      "metadata": {
        "id": "Y484Ce5PNi00"
      }
    },
    {
      "cell_type": "code",
      "source": [
        "# Extract Filings Function\n",
        "def get_filings(ticker):\n",
        "    global sec_api_key\n",
        "\n",
        "    # Finding Recent Filings with QueryAPI\n",
        "    queryApi = QueryApi(api_key=sec_api_key)\n",
        "    query = {\n",
        "      \"query\": f\"ticker:{ticker} AND formType:\\\"10-K\\\"\",\n",
        "      \"from\": \"0\",\n",
        "      \"size\": \"1\",\n",
        "      \"sort\": [{ \"filedAt\": { \"order\": \"desc\" } }]\n",
        "    }\n",
        "    filings = queryApi.get_filings(query)\n",
        "\n",
        "    # Getting 10-K URL\n",
        "    filing_url = filings[\"filings\"][0][\"linkToFilingDetails\"]\n",
        "\n",
        "    # Extracting Text with ExtractorAPI\n",
        "    extractorApi = ExtractorApi(api_key=sec_api_key)\n",
        "    onea_text = extractorApi.get_section(filing_url, \"1A\", \"text\") # Section 1A - Risk Factors\n",
        "    seven_text = extractorApi.get_section(filing_url, \"7\", \"text\") # Section 7 - Management’s Discussion and Analysis of Financial Condition and Results of Operations\n",
        "\n",
        "    # Joining Texts\n",
        "    combined_text = onea_text + \"\\n\\n\" + seven_text\n",
        "\n",
        "    return combined_text"
      ],
      "metadata": {
        "id": "63eip6aNLuI8"
      },
      "execution_count": 18,
      "outputs": []
    },
    {
      "cell_type": "markdown",
      "source": [
        "### **Setting Up Embeddings Locally**\n",
        "\n",
        "In the spirit of local and fine tuned models, we'll be using an open source embedding model, [Beijing Academy of Artificial Intelligence's - Large English Embedding Model](https://huggingface.co/BAAI/bge-large-en-v1.5). More details on their open source model available in their [GitHub repo](https://github.com/FlagOpen/FlagEmbedding)!\n",
        "\n",
        "**Embeddings** are numerical representations of data, typically used to convert complex, high-dimensional data into a lower-dimensional space where similar data points are closer together. In the context of natural language processing (NLP), embeddings are used to represent words, phrases, or sentences as vectors of real numbers. These vectors capture semantic relationships, meaning that words with similar meanings are represented by vectors that are close together in the embedding space.\n",
        "\n",
        "**Embedding models** are machine learning models that are trained to create these numerical representations. They learn to encode various types of data into embeddings that capture the essential characteristics and relationships within the data. For example, in NLP, embedding models like Word2Vec, GloVe, and BERT are trained on large text corpora to produce word embeddings. These embeddings can then be used for various downstream tasks, such as text classification, sentiment analysis, or machine translation. In this case we'll be using it for semantic similarity"
      ],
      "metadata": {
        "id": "H8kLhpJ6N967"
      }
    },
    {
      "cell_type": "code",
      "source": [
        "# HF Model Path\n",
        "modelPath = \"BAAI/bge-large-en-v1.5\"\n",
        "# Create a dictionary with model configuration options, specifying to use the cuda for GPU optimization\n",
        "model_kwargs = {'device':'cuda'}\n",
        "encode_kwargs = {'normalize_embeddings': True}\n",
        "\n",
        "# Initialize an instance of LangChain's HuggingFaceEmbeddings with the specified parameters\n",
        "embeddings = HuggingFaceEmbeddings(\n",
        "    model_name=modelPath,     # Provide the pre-trained model's path\n",
        "    model_kwargs=model_kwargs, # Pass the model configuration options\n",
        "    encode_kwargs=encode_kwargs # Pass the encoding options\n",
        ")"
      ],
      "metadata": {
        "id": "NJWRX8eINdpD",
        "colab": {
          "base_uri": "https://localhost:8080/"
        },
        "outputId": "ab349340-853c-4b50-e768-2cdf410087b4"
      },
      "execution_count": 19,
      "outputs": [
        {
          "output_type": "stream",
          "name": "stderr",
          "text": [
            "<ipython-input-19-7da35b4063b5>:8: LangChainDeprecationWarning: The class `HuggingFaceEmbeddings` was deprecated in LangChain 0.2.2 and will be removed in 1.0. An updated version of the class exists in the :class:`~langchain-huggingface package and should be used instead. To use it run `pip install -U :class:`~langchain-huggingface` and import as `from :class:`~langchain_huggingface import HuggingFaceEmbeddings``.\n",
            "  embeddings = HuggingFaceEmbeddings(\n"
          ]
        }
      ]
    },
    {
      "cell_type": "markdown",
      "source": [
        "### **Processing & Defining the Vector Database**\n",
        "\n",
        "In this flow we get the data from the above defined SEC API functions, and then go through Three steps:\n",
        "1. Text Splitting\n",
        "2. Vectorizing\n",
        "3. Retrieval Function Setup\n",
        "\n",
        "**Text splitting** is the process of breaking down large documents or text data into smaller, manageable chunks. This is often necessary when dealing with extensive text data, such as legal documents, financial reports, or any lengthy articles. The purpose of text splitting is to ensure that the data can be effectively processed, analyzed, and indexed by machine learning models and databases.\n",
        "\n",
        "**Vector databases** store data in the form of vectors, which are numerical representations of text, images, or other types of data. These vectors capture the semantic meaning of the data, allowing for efficient similarity search and retrieval.\n",
        "\n",
        "The Vector DB we're using here is the [Facebook AI Semantic Search](https://ai.meta.com/tools/faiss/) library, a lightweight an in memory (don't need to save this to a disk) solution that is not as powerful as other Vector DB's but will work great for this use case\n",
        "\n",
        "**How They Use Split Documents and Embeddings Together:**\n",
        "1. **Embeddings:** When text data is split into smaller chunks, each chunk is converted into a numerical vector (embedding) using an embedding model. These embeddings capture the semantic relationships and meaning of the text.\n",
        "2. **Storage:** The vector database stores these embeddings along with references to the original text chunks.\n",
        "3. **Indexing:** The database indexes the vectors to allow for fast and efficient similarity searches. This indexing process organizes the vectors in a way that makes it easy to find similar vectors quickly.\n",
        "4. **Usage:** When a query is made, the vector database searches for the most similar vectors (text chunks) to the query vector, retrieving the relevant text chunks based on their semantic similarity."
      ],
      "metadata": {
        "id": "c7GoqZ0Ai_u0"
      }
    },
    {
      "cell_type": "code",
      "source": [
        "# Prompt the user to input the stock ticker they want to analyze\n",
        "ticker = input(\"What Ticker Would you Like to Analyze? ex. AAPL: \")\n",
        "\n",
        "print(\"-----\")\n",
        "print(\"Getting Filing Data\")\n",
        "# Retrieve the filing data for the specified ticker\n",
        "filing_data = get_filings(ticker)\n",
        "\n",
        "print(\"-----\")\n",
        "print(\"Initializing Vector Database\")\n",
        "# Initialize a text splitter to divide the filing data into chunks\n",
        "text_splitter = RecursiveCharacterTextSplitter(\n",
        "    chunk_size = 1000,         # Maximum size of each chunk\n",
        "    chunk_overlap = 500,       # Number of characters to overlap between chunks\n",
        "    length_function = len,     # Function to determine the length of the chunks\n",
        "    is_separator_regex = False # Whether the separator is a regex pattern\n",
        ")\n",
        "# Split the filing data into smaller, manageable chunks\n",
        "split_data = text_splitter.create_documents([filing_data])\n",
        "\n",
        "# Create a FAISS vector database from the split data using embeddings\n",
        "db = FAISS.from_documents(split_data, embeddings)\n",
        "\n",
        "# Create a retriever object to search within the vector database\n",
        "retriever = db.as_retriever(\n",
        "    # search_type=\"mmr\",\n",
        ")\n",
        "\n",
        "print(\"-----\")\n",
        "print(\"Filing Initialized\")\n"
      ],
      "metadata": {
        "id": "HEQkqH53jepr",
        "colab": {
          "base_uri": "https://localhost:8080/"
        },
        "outputId": "41da5f75-dc20-4e3c-f713-b43568c979d3"
      },
      "execution_count": 20,
      "outputs": [
        {
          "output_type": "stream",
          "name": "stdout",
          "text": [
            "What Ticker Would you Like to Analyze? ex. AAPL: AAPL\n",
            "-----\n",
            "Getting Filing Data\n",
            "-----\n",
            "Initializing Vector Database\n",
            "-----\n",
            "Filing Initialized\n"
          ]
        }
      ]
    },
    {
      "cell_type": "markdown",
      "source": [
        "\n",
        "### **Retrieval**\n",
        "\n",
        "**Description:**\n",
        "Retrieval is the process of querying a vector database to find and return relevant text chunks or documents that match a given query. This involves searching through the indexed embeddings to identify the ones that are most similar to the query.\n",
        "\n",
        "**How It Works:**\n",
        "1. **Query Embedding:** When a query is made, it is first converted into an embedding using the same embedding model used for the text chunks.\n",
        "2. **Similarity Search:** The retriever searches the vector database for embeddings that are similar to the query embedding. This similarity is often measured using distance metrics like cosine similarity or Euclidean distance.\n",
        "3. **Document Retrieval:** The retriever then retrieves the original text chunks or documents associated with the similar embeddings.\n",
        "4. **Context Assembly:** The retrieved text chunks are assembled to provide a coherent context or answer to the query.\n",
        "\n",
        "In this function, the query is used to invoke the retriever, which returns a list of documents. The content of these documents is then extracted and returned as the context for the query."
      ],
      "metadata": {
        "id": "ap20kFHgkt1Z"
      }
    },
    {
      "cell_type": "code",
      "source": [
        "# Retrieval Function\n",
        "def retrieve_context(query):\n",
        "    global retriever\n",
        "    retrieved_docs = retriever.invoke(query) # Invoke the retriever with the query to get relevant documents\n",
        "    context = []\n",
        "    for doc in retrieved_docs:\n",
        "        context.append(doc.page_content) # Collect the content of each retrieved document\n",
        "    return context"
      ],
      "metadata": {
        "id": "vMA9AyaMPWRj"
      },
      "execution_count": 21,
      "outputs": []
    },
    {
      "cell_type": "code",
      "source": [
        "context = retrieve_context(\"How have currency fluctuations impacted the company's net sales and gross margins?\")\n",
        "print(context)"
      ],
      "metadata": {
        "colab": {
          "base_uri": "https://localhost:8080/"
        },
        "id": "tO_5RbWl0brL",
        "outputId": "12881566-0880-4261-f1ec-848da63a2810"
      },
      "execution_count": 22,
      "outputs": [
        {
          "output_type": "stream",
          "name": "stdout",
          "text": [
            "['The weakening of foreign currencies relative to the U.S. dollar adversely affects the U.S. dollar value of the Company&#8217;s foreign currency&#8211;denominated sales and earnings, and generally leads the Company to raise international pricing, potentially reducing demand for the Company&#8217;s products. In some circumstances, for competitive or other reasons, the Company may decide not to raise international pricing to offset the U.S. dollar&#8217;s strengthening, which would adversely affect the U.S. dollar value of the gross margins the Company earns on foreign currency&#8211;denominated sales.', 'The Company&#8217;s profit margins vary across its products, services, geographic segments and distribution channels. For example, the gross margins on the Company&#8217;s products and services vary significantly and can change over time. The Company&#8217;s gross margins are subject to volatility and downward pressure due to a variety of factors, including: continued industry-wide global product pricing pressures and product pricing actions that the Company may take in response to such pressures; increased competition; the Company&#8217;s ability to effectively stimulate demand for certain of its products and services; compressed product life cycles; supply shortages; potential increases in the cost of components, outside manufacturing services, and developing, acquiring and delivering content for the Company&#8217;s services; the Company&#8217;s ability to manage product quality and warranty costs effectively; shifts in the mix of products and services, or in the geographic,', 'Conversely, a strengthening of foreign currencies relative to the U.S. dollar, while generally beneficial to the Company&#8217;s foreign currency&#8211;denominated sales and earnings, could cause the Company to reduce international pricing or incur losses on its foreign currency derivative instruments, thereby limiting the benefit. Additionally, strengthening of foreign currencies may increase the Company&#8217;s cost of product components denominated in those currencies, thus adversely affecting gross margins. \\n\\nThe Company uses derivative instruments, such as foreign currency forward and option contracts, to hedge certain exposures to fluctuations in foreign exchange rates. The use of such hedging activities may not be effective to offset any, or more than a portion, of the adverse financial effects of unfavorable movements in foreign exchange rates over the limited time the hedges are in place.', 'Apple Inc. | 2024 Form 10-K | 15 \\n\\nThe Company&#8217;s financial performance is subject to risks associated with changes in the value of the U.S. dollar relative to local currencies. \\n\\nThe Company&#8217;s primary exposure to movements in foreign exchange rates relates to non&#8211;U.S. dollar&#8211;denominated sales, cost of sales and operating expenses worldwide. Gross margins on the Company&#8217;s products in foreign countries and on products that include components obtained from foreign suppliers have in the past been adversely affected and could in the future be materially adversely affected by foreign exchange rate fluctuations.']\n"
          ]
        }
      ]
    },
    {
      "cell_type": "markdown",
      "source": [
        "---\n",
        "# **Main Script: Putting it All Together!**\n",
        "\n",
        "Now, we'll string everything together into a very simple while loop that will take the user's question, retrieve context from the Vector DB populated with the specific company Form 10-K, then run inference through our fine tuned model to generate a response! Give it a shot"
      ],
      "metadata": {
        "id": "cO3N8hM8P1uP"
      }
    },
    {
      "cell_type": "code",
      "source": [
        "while True:\n",
        "  question = input(f\"What would you like to know about {ticker}'s form 10-K? \")\n",
        "  if question == \"x\":\n",
        "    break\n",
        "  else:\n",
        "    context = retrieve_context(question) # Context Retrieval\n",
        "    resp = inference(question, context) # Running Inference\n",
        "    parsed_response = extract_response(resp) # Parsing Response\n",
        "    print(f\"L3 Agent: {parsed_response}\")\n",
        "    print(\"-----\\n\")\n"
      ],
      "metadata": {
        "colab": {
          "base_uri": "https://localhost:8080/"
        },
        "id": "UNQx0oF4PkqZ",
        "outputId": "078715e2-8c60-4d50-b861-c5ef9660ed17"
      },
      "execution_count": null,
      "outputs": [
        {
          "name": "stdout",
          "output_type": "stream",
          "text": [
            "What would you like to know about AAPL's form 10-K? What region contributes most to international sales?\n",
            "L3 Agent: The Americas region contributes the most to international sales.\n",
            "-----\n",
            "\n",
            "What would you like to know about AAPL's form 10-K? Where is outsourcing located currently?\n",
            "L3 Agent: The Company outsources manufacturing to partners primarily located in China mainland, India, Japan, South Korea, Taiwan, and Vietnam.\n",
            "-----\n",
            "\n",
            "What would you like to know about AAPL's form 10-K? Does the US dollar weakening help or hurt the company?\n",
            "L3 Agent: None\n",
            "-----\n",
            "\n",
            "What would you like to know about AAPL's form 10-K? What are significant announcements of products during fiscal year 2023?\n",
            "L3 Agent: During fiscal year 2023, Apple announced the following significant products: iPad and iPad Pro, Next-generation Apple TV 4K, and MLS Season Pass, a Major League Soccer subscription streaming service.\n",
            "-----\n",
            "\n",
            "What would you like to know about AAPL's form 10-K? iPhone Net Sales?\n",
            "L3 Agent: iPhone net sales decreased 2% or $4.9 billion during 2023 compared to 2022 due to lower net sales of non-Pro iPhone models, partially offset by higher net sales of Pro iPhone models.\n",
            "-----\n",
            "\n",
            "What would you like to know about AAPL's form 10-K? x\n"
          ]
        }
      ]
    },
    {
      "cell_type": "code",
      "source": [
        "from nltk.translate.bleu_score import sentence_bleu, corpus_bleu, SmoothingFunction\n",
        "import numpy as np\n",
        "\n",
        "bleu_scores = []\n",
        "references = []\n",
        "candidates = []\n",
        "# Loop through each question, context, and answer tuple in test_dataset\n",
        "for i,item in enumerate(test_dataset):\n",
        "    question = item['question']\n",
        "    true_answer = item['answer']\n",
        "    context = item['context']\n",
        "\n",
        "    # Run the RAG process\n",
        "    retrieved_context = retrieve_context(question)  # Context retrieval\n",
        "    generated_response = inference(question, retrieved_context)  # Inference\n",
        "    parsed_response = extract_response(generated_response)  # Parsing response\n",
        "\n",
        "    # Calculate BLEU score between generated response and true answer\n",
        "    reference = [true_answer.split()] if true_answer else [] # Tokenized reference answer\n",
        "    candidate = parsed_response.split() if parsed_response else [] # Tokenized model response\n",
        "    references.append(reference)\n",
        "    candidates.append(candidate)\n",
        "\n",
        "    # weights = (0.3,0.7,0,0)\n",
        "    # bleu_score = sentence_bleu(reference, candidate, weights)\n",
        "\n",
        "    # Append BLEU score to list\n",
        "    # bleu_scores.append(bleu_score)\n",
        "\n",
        "    print(f\"{i}\")\n",
        "\n",
        "\n",
        "    # Optional: Print the question, response, and BLEU score\n",
        "    # print(f\"Question: {question}\")\n",
        "    # print(f'Retriened Context: {retrieved_context}')\n",
        "    # print(f'Context: {context}')\n",
        "    # print(f'Generated response: {generated_response}')\n",
        "    # print(f\"Generated Answer: {parsed_response}\")\n",
        "    # print(f\"True Answer: {true_answer}\")\n",
        "    # print(f\"BLEU Score: {bleu_score}\\n\")\n",
        "    # print(\"-----\\n\")\n",
        "\n",
        "\n",
        "# average_bleu_score = np.mean(bleu_scores)\n",
        "# print(f\"Average BLEU Score on test dataset: {average_bleu_score}\")\n"
      ],
      "metadata": {
        "colab": {
          "base_uri": "https://localhost:8080/"
        },
        "id": "I5r9js4eAFQm",
        "outputId": "4d8ff4c5-ddc1-46d7-f362-02ea673e2cea"
      },
      "execution_count": 23,
      "outputs": [
        {
          "output_type": "stream",
          "name": "stdout",
          "text": [
            "0\n",
            "1\n",
            "2\n",
            "3\n",
            "4\n",
            "5\n",
            "6\n",
            "7\n",
            "8\n",
            "9\n",
            "10\n",
            "11\n",
            "12\n",
            "13\n",
            "14\n",
            "15\n",
            "16\n",
            "17\n",
            "18\n",
            "19\n",
            "20\n",
            "21\n",
            "22\n",
            "23\n",
            "24\n",
            "25\n",
            "26\n",
            "27\n",
            "28\n",
            "29\n",
            "30\n",
            "31\n",
            "32\n",
            "33\n",
            "34\n",
            "35\n",
            "36\n",
            "37\n",
            "38\n",
            "39\n",
            "40\n",
            "41\n",
            "42\n",
            "43\n",
            "44\n",
            "45\n",
            "46\n",
            "47\n",
            "48\n",
            "49\n",
            "50\n",
            "51\n",
            "52\n",
            "53\n",
            "54\n",
            "55\n",
            "56\n",
            "57\n",
            "58\n",
            "59\n",
            "60\n",
            "61\n",
            "62\n",
            "63\n",
            "64\n",
            "65\n",
            "66\n",
            "67\n",
            "68\n",
            "69\n",
            "70\n",
            "71\n",
            "72\n",
            "73\n",
            "74\n",
            "75\n",
            "76\n",
            "77\n",
            "78\n",
            "79\n",
            "80\n",
            "81\n",
            "82\n",
            "83\n",
            "84\n",
            "85\n",
            "86\n",
            "87\n",
            "88\n",
            "89\n",
            "90\n",
            "91\n",
            "92\n",
            "93\n",
            "94\n",
            "95\n",
            "96\n",
            "97\n",
            "98\n",
            "99\n"
          ]
        }
      ]
    },
    {
      "cell_type": "code",
      "source": [
        "smooth_fn = SmoothingFunction().method1\n",
        "# weights = (0.25, 0.25, 0.25, 0.25)\n",
        "weights = (0.3, 0.7, 0, 0 )\n",
        "corpus_bleu_score = corpus_bleu(references, candidates, weights=weights, smoothing_function=smooth_fn)\n",
        "print(f\"Corpus BLEU Score on test dataset: {corpus_bleu_score:.4f}\")"
      ],
      "metadata": {
        "colab": {
          "base_uri": "https://localhost:8080/"
        },
        "id": "0mBuExB8E23i",
        "outputId": "3ce7502b-6e0f-4edb-afcb-99d6f80afccc"
      },
      "execution_count": 24,
      "outputs": [
        {
          "output_type": "stream",
          "name": "stdout",
          "text": [
            "Corpus BLEU Score on test dataset: 0.0000\n"
          ]
        }
      ]
    },
    {
      "cell_type": "code",
      "source": [
        "import matplotlib.pyplot as plt\n",
        "import numpy as np\n",
        "\n",
        "# Data\n",
        "models = ['Llama-3-8B', 'Mistral-7B']\n",
        "similarity_scores = [0.1366, 0.1566]\n",
        "mmr_scores = [0.1422, 0.1694]\n",
        "\n",
        "# Bar width and positions\n",
        "x = np.arange(len(models))\n",
        "bar_width = 0.35\n",
        "\n",
        "# Create the plot\n",
        "fig, ax = plt.subplots(figsize=(8, 6))\n",
        "bars1 = ax.bar(x - bar_width / 2, similarity_scores, bar_width, label='Similarity', )\n",
        "bars2 = ax.bar(x + bar_width / 2, mmr_scores, bar_width, label='MMR', )\n",
        "\n",
        "# Add text annotations for the scores\n",
        "for bar in bars1:\n",
        "    ax.text(bar.get_x() + bar.get_width() / 2, bar.get_height() + 0.005, f'{bar.get_height():.4f}', ha='center', va='bottom')\n",
        "for bar in bars2:\n",
        "    ax.text(bar.get_x() + bar.get_width() / 2, bar.get_height() + 0.005, f'{bar.get_height():.4f}', ha='center', va='bottom')\n",
        "\n",
        "# Customizations\n",
        "ax.set_xlabel('Models')\n",
        "ax.set_ylabel('BLEU Score')\n",
        "ax.set_ylim(0,0.22)\n",
        "# ax.set_title('BLEU score ')\n",
        "ax.set_xticks(x)\n",
        "ax.set_xticklabels(models)\n",
        "ax.legend()\n",
        "ax.grid(axis='y', linestyle='--', alpha=0.7)\n",
        "\n",
        "# Show the plot\n",
        "plt.tight_layout()\n",
        "plt.show()\n"
      ],
      "metadata": {
        "colab": {
          "base_uri": "https://localhost:8080/",
          "height": 607
        },
        "id": "FXvDKMpDZGrs",
        "outputId": "4fc048cf-3c10-4c5c-d9ab-05201740d775"
      },
      "execution_count": 5,
      "outputs": [
        {
          "output_type": "display_data",
          "data": {
            "text/plain": [
              "<Figure size 800x600 with 1 Axes>"
            ],
            "image/png": "[encoded data removed]"
          },
          "metadata": {}
        }
      ]
    },
    {
      "cell_type": "markdown",
      "source": [
        "What region contributes most to international sales?  \n",
        "Where is outsourcing located currently?  \n",
        "Does the US dollar weakening help or hurt the company?  \n",
        "What are significant announcements of products during fiscal year 2023?  \n",
        "iPhone Net Sales?\n"
      ],
      "metadata": {
        "id": "rgTr8qtgCdO0"
      }
    },
    {
      "cell_type": "markdown",
      "source": [
        "---\n",
        "### Some thoughts\n",
        "1. Really shows just how much processing is needed for training and running large, advanced models.\n",
        "2. Even with a 16gb VRAM GPU still takes an hour to train one epoch, on just an 8 billion parameter small model with a narrow dataset\n",
        "3. Even with all this time and effort put in, small models can be very powerful!\n",
        "4. Latency is a big issue to solve in the lack of compute\n",
        "5. A lot of innacuracy likely also due to 2048 token sequence length requirement"
      ],
      "metadata": {
        "id": "zpdf0_1ZUUvx"
      }
    },
    {
      "cell_type": "markdown",
      "source": [
        "---\n",
        "# Disclaimer\n",
        "\n",
        "The information provided from this notebook is for educational purposes only and does not constitute financial advice. I do not provide personalized investment, financial, or legal advice. All financial products, services, and investments carry inherent risks, and you should conduct your own research or consult with a qualified financial advisor before making any financial decisions. I am not responsible for any losses or damages that may arise from the use of the information provided on this platform. Always consider your individual financial situation and objectives before making any investment or financial decision."
      ],
      "metadata": {
        "id": "OX7jYxuxaKgI"
      }
    }
  ]
}